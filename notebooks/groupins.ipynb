{
 "cells": [
  {
   "cell_type": "markdown",
   "metadata": {},
   "source": [
    "# Import Modules"
   ]
  },
  {
   "cell_type": "code",
   "execution_count": 3,
   "metadata": {},
   "outputs": [],
   "source": [
    "# data and visualization\n",
    "import pandas as pd\n",
    "import numpy as np\n",
    "import matplotlib.pyplot as plt\n",
    "import datetime as dt"
   ]
  },
  {
   "cell_type": "markdown",
   "metadata": {},
   "source": [
    "# Prep Data"
   ]
  },
  {
   "cell_type": "code",
   "execution_count": 4,
   "metadata": {},
   "outputs": [
    {
     "data": {
      "text/html": [
       "<div>\n",
       "<style scoped>\n",
       "    .dataframe tbody tr th:only-of-type {\n",
       "        vertical-align: middle;\n",
       "    }\n",
       "\n",
       "    .dataframe tbody tr th {\n",
       "        vertical-align: top;\n",
       "    }\n",
       "\n",
       "    .dataframe thead th {\n",
       "        text-align: right;\n",
       "    }\n",
       "</style>\n",
       "<table border=\"1\" class=\"dataframe\">\n",
       "  <thead>\n",
       "    <tr style=\"text-align: right;\">\n",
       "      <th></th>\n",
       "      <th>user_id</th>\n",
       "      <th>gender</th>\n",
       "      <th>birth_date</th>\n",
       "      <th>start_date</th>\n",
       "      <th>end_date</th>\n",
       "      <th>city_code</th>\n",
       "    </tr>\n",
       "  </thead>\n",
       "  <tbody>\n",
       "    <tr>\n",
       "      <th>0</th>\n",
       "      <td>1</td>\n",
       "      <td>female</td>\n",
       "      <td>1981-07-07</td>\n",
       "      <td>2010-06-29</td>\n",
       "      <td>2010-11-02</td>\n",
       "      <td>3</td>\n",
       "    </tr>\n",
       "    <tr>\n",
       "      <th>1</th>\n",
       "      <td>2</td>\n",
       "      <td>male</td>\n",
       "      <td>1996-10-08</td>\n",
       "      <td>2011-01-18</td>\n",
       "      <td>2012-02-18</td>\n",
       "      <td>1</td>\n",
       "    </tr>\n",
       "    <tr>\n",
       "      <th>2</th>\n",
       "      <td>3</td>\n",
       "      <td>female</td>\n",
       "      <td>1986-06-03</td>\n",
       "      <td>2010-01-13</td>\n",
       "      <td>2010-09-12</td>\n",
       "      <td>3</td>\n",
       "    </tr>\n",
       "    <tr>\n",
       "      <th>3</th>\n",
       "      <td>4</td>\n",
       "      <td>male</td>\n",
       "      <td>1992-07-28</td>\n",
       "      <td>2010-11-19</td>\n",
       "      <td>2012-08-01</td>\n",
       "      <td>3</td>\n",
       "    </tr>\n",
       "    <tr>\n",
       "      <th>4</th>\n",
       "      <td>5</td>\n",
       "      <td>male</td>\n",
       "      <td>1981-04-21</td>\n",
       "      <td>2011-08-27</td>\n",
       "      <td>2011-12-11</td>\n",
       "      <td>2</td>\n",
       "    </tr>\n",
       "  </tbody>\n",
       "</table>\n",
       "</div>"
      ],
      "text/plain": [
       "   user_id  gender birth_date start_date   end_date  city_code\n",
       "0        1  female 1981-07-07 2010-06-29 2010-11-02          3\n",
       "1        2    male 1996-10-08 2011-01-18 2012-02-18          1\n",
       "2        3  female 1986-06-03 2010-01-13 2010-09-12          3\n",
       "3        4    male 1992-07-28 2010-11-19 2012-08-01          3\n",
       "4        5    male 1981-04-21 2011-08-27 2011-12-11          2"
      ]
     },
     "execution_count": 4,
     "metadata": {},
     "output_type": "execute_result"
    }
   ],
   "source": [
    "# import dataframes\n",
    "filepath = '../data/data-case.xlsx'\n",
    "df_users = pd.read_excel(filepath, sheet_name='users')\n",
    "df_nps = pd.read_excel(filepath, sheet_name='nps')\n",
    "df_appts = pd.read_excel(filepath, sheet_name='appointments')\n",
    "\n",
    "# visualize datafram3es\n",
    "df_users.head()\n",
    "# df_nps.head()\n",
    "# df_appts.head()"
   ]
  },
  {
   "cell_type": "code",
   "execution_count": 5,
   "metadata": {},
   "outputs": [
    {
     "data": {
      "text/html": [
       "<div>\n",
       "<style scoped>\n",
       "    .dataframe tbody tr th:only-of-type {\n",
       "        vertical-align: middle;\n",
       "    }\n",
       "\n",
       "    .dataframe tbody tr th {\n",
       "        vertical-align: top;\n",
       "    }\n",
       "\n",
       "    .dataframe thead th {\n",
       "        text-align: right;\n",
       "    }\n",
       "</style>\n",
       "<table border=\"1\" class=\"dataframe\">\n",
       "  <thead>\n",
       "    <tr style=\"text-align: right;\">\n",
       "      <th></th>\n",
       "      <th>user_id</th>\n",
       "      <th>gender</th>\n",
       "      <th>birth_date</th>\n",
       "      <th>start_date</th>\n",
       "      <th>end_date</th>\n",
       "      <th>city_code</th>\n",
       "      <th>num_days</th>\n",
       "    </tr>\n",
       "  </thead>\n",
       "  <tbody>\n",
       "    <tr>\n",
       "      <th>0</th>\n",
       "      <td>1</td>\n",
       "      <td>female</td>\n",
       "      <td>1981-07-07</td>\n",
       "      <td>2010-06-29</td>\n",
       "      <td>2010-11-02</td>\n",
       "      <td>3</td>\n",
       "      <td>126</td>\n",
       "    </tr>\n",
       "    <tr>\n",
       "      <th>1</th>\n",
       "      <td>2</td>\n",
       "      <td>male</td>\n",
       "      <td>1996-10-08</td>\n",
       "      <td>2011-01-18</td>\n",
       "      <td>2012-02-18</td>\n",
       "      <td>1</td>\n",
       "      <td>396</td>\n",
       "    </tr>\n",
       "    <tr>\n",
       "      <th>2</th>\n",
       "      <td>3</td>\n",
       "      <td>female</td>\n",
       "      <td>1986-06-03</td>\n",
       "      <td>2010-01-13</td>\n",
       "      <td>2010-09-12</td>\n",
       "      <td>3</td>\n",
       "      <td>242</td>\n",
       "    </tr>\n",
       "    <tr>\n",
       "      <th>3</th>\n",
       "      <td>4</td>\n",
       "      <td>male</td>\n",
       "      <td>1992-07-28</td>\n",
       "      <td>2010-11-19</td>\n",
       "      <td>2012-08-01</td>\n",
       "      <td>3</td>\n",
       "      <td>621</td>\n",
       "    </tr>\n",
       "    <tr>\n",
       "      <th>4</th>\n",
       "      <td>5</td>\n",
       "      <td>male</td>\n",
       "      <td>1981-04-21</td>\n",
       "      <td>2011-08-27</td>\n",
       "      <td>2011-12-11</td>\n",
       "      <td>2</td>\n",
       "      <td>106</td>\n",
       "    </tr>\n",
       "  </tbody>\n",
       "</table>\n",
       "</div>"
      ],
      "text/plain": [
       "   user_id  gender birth_date start_date   end_date  city_code  num_days\n",
       "0        1  female 1981-07-07 2010-06-29 2010-11-02          3       126\n",
       "1        2    male 1996-10-08 2011-01-18 2012-02-18          1       396\n",
       "2        3  female 1986-06-03 2010-01-13 2010-09-12          3       242\n",
       "3        4    male 1992-07-28 2010-11-19 2012-08-01          3       621\n",
       "4        5    male 1981-04-21 2011-08-27 2011-12-11          2       106"
      ]
     },
     "execution_count": 5,
     "metadata": {},
     "output_type": "execute_result"
    }
   ],
   "source": [
    "# compute number of days as a client, end date inclusive\n",
    "df_users['num_days'] = df_users['end_date'] - df_users['start_date']\n",
    "df_users['num_days'] = df_users['num_days'].dt.days\n",
    "df_users.head()"
   ]
  },
  {
   "cell_type": "code",
   "execution_count": 6,
   "metadata": {},
   "outputs": [
    {
     "data": {
      "image/png": "[encoded data removed]",
      "text/plain": [
       "<Figure size 432x288 with 1 Axes>"
      ]
     },
     "metadata": {
      "needs_background": "light"
     },
     "output_type": "display_data"
    }
   ],
   "source": [
    "# Visualize distribution of days spent in the platform\n",
    "plt.figure();\n",
    "ax = df_users['num_days'].plot.hist()"
   ]
  },
  {
   "cell_type": "markdown",
   "metadata": {},
   "source": [
    "# Group by gender"
   ]
  },
  {
   "cell_type": "code",
   "execution_count": 125,
   "metadata": {},
   "outputs": [
    {
     "data": {
      "text/plain": [
       "<matplotlib.axes._subplots.AxesSubplot at 0x122979b00>"
      ]
     },
     "execution_count": 125,
     "metadata": {},
     "output_type": "execute_result"
    },
    {
     "data": {
      "text/plain": [
       "<Figure size 936x360 with 0 Axes>"
      ]
     },
     "metadata": {},
     "output_type": "display_data"
    },
    {
     "data": {
      "image/png": "[encoded data removed]",
      "text/plain": [
       "<Figure size 432x288 with 1 Axes>"
      ]
     },
     "metadata": {
      "needs_background": "light"
     },
     "output_type": "display_data"
    }
   ],
   "source": [
    "df = df_users.copy()\n",
    "df[['num_days', 'gender']].pivot(columns='gender').plot(kind='hist', stacked=True)"
   ]
  },
  {
   "cell_type": "markdown",
   "metadata": {},
   "source": [
    "# Group by city code"
   ]
  },
  {
   "cell_type": "code",
   "execution_count": 124,
   "metadata": {},
   "outputs": [
    {
     "data": {
      "text/plain": [
       "Text(0.5, 1.0, '')"
      ]
     },
     "execution_count": 124,
     "metadata": {},
     "output_type": "execute_result"
    },
    {
     "data": {
      "image/png": "[encoded data removed]",
      "text/plain": [
       "<Figure size 936x360 with 1 Axes>"
      ]
     },
     "metadata": {
      "needs_background": "light"
     },
     "output_type": "display_data"
    }
   ],
   "source": [
    "# Make a separate list for each \n",
    "x1 = list(df[df['city_code'] == 0]['num_days'])\n",
    "x2 = list(df[df['city_code'] == 1]['num_days'])\n",
    "x3 = list(df[df['city_code'] == 2]['num_days'])\n",
    "x4 = list(df[df['city_code'] == 3]['num_days'])\n",
    "x5 = list(df[df['city_code'] == 4]['num_days'])\n",
    "x6 = list(df[df['city_code'] == 5]['num_days'])\n",
    "x7 = list(df[df['city_code'] == 6]['num_days'])\n",
    "\n",
    "\n",
    "# Assign colors for each airline and the names\n",
    "colors = ['#E69F00','#4040C0','#C04040','#56B4E9','#F0E442','#FF2020','#20FF20']\n",
    "names = ['0', '1', '2', '3', '4', '5', '6']\n",
    "         \n",
    "# Make the histogram using a list of lists\n",
    "# Normalize the flights and assign colors and names\n",
    "plt.figure(figsize=(13,5))\n",
    "plt.hist([x1, x2, x3, x4, x5, x6, x7], bins = int(180/15), \n",
    "         color = colors, label=names)\n",
    "\n",
    "# Plot formatting\n",
    "plt.legend()\n",
    "plt.xlabel('')\n",
    "plt.ylabel('')\n",
    "plt.title('')"
   ]
  },
  {
   "cell_type": "markdown",
   "metadata": {},
   "source": [
    "# Group by last nps"
   ]
  },
  {
   "cell_type": "code",
   "execution_count": 130,
   "metadata": {},
   "outputs": [
    {
     "data": {
      "image/png": "[encoded data removed]",
      "text/plain": [
       "<Figure size 432x288 with 1 Axes>"
      ]
     },
     "metadata": {
      "needs_background": "light"
     },
     "output_type": "display_data"
    }
   ],
   "source": [
    "df['nps'] = df_nps['nps']\n",
    "df[['num_days', 'nps']].pivot(columns='nps').plot(kind='hist', stacked=True)"
   ]
  },
  {
   "cell_type": "markdown",
   "metadata": {},
   "source": [
    "# Group by appts"
   ]
  },
  {
   "cell_type": "code",
   "execution_count": 152,
   "metadata": {},
   "outputs": [
    {
     "data": {
      "text/html": [
       "<div>\n",
       "<style scoped>\n",
       "    .dataframe tbody tr th:only-of-type {\n",
       "        vertical-align: middle;\n",
       "    }\n",
       "\n",
       "    .dataframe tbody tr th {\n",
       "        vertical-align: top;\n",
       "    }\n",
       "\n",
       "    .dataframe thead th {\n",
       "        text-align: right;\n",
       "    }\n",
       "</style>\n",
       "<table border=\"1\" class=\"dataframe\">\n",
       "  <thead>\n",
       "    <tr style=\"text-align: right;\">\n",
       "      <th></th>\n",
       "      <th>user_id</th>\n",
       "      <th>num_appts</th>\n",
       "    </tr>\n",
       "  </thead>\n",
       "  <tbody>\n",
       "    <tr>\n",
       "      <th>0</th>\n",
       "      <td>1</td>\n",
       "      <td>2</td>\n",
       "    </tr>\n",
       "    <tr>\n",
       "      <th>1</th>\n",
       "      <td>2</td>\n",
       "      <td>7</td>\n",
       "    </tr>\n",
       "    <tr>\n",
       "      <th>2</th>\n",
       "      <td>3</td>\n",
       "      <td>4</td>\n",
       "    </tr>\n",
       "    <tr>\n",
       "      <th>3</th>\n",
       "      <td>4</td>\n",
       "      <td>8</td>\n",
       "    </tr>\n",
       "    <tr>\n",
       "      <th>4</th>\n",
       "      <td>5</td>\n",
       "      <td>1</td>\n",
       "    </tr>\n",
       "    <tr>\n",
       "      <th>...</th>\n",
       "      <td>...</td>\n",
       "      <td>...</td>\n",
       "    </tr>\n",
       "    <tr>\n",
       "      <th>458</th>\n",
       "      <td>459</td>\n",
       "      <td>5</td>\n",
       "    </tr>\n",
       "    <tr>\n",
       "      <th>459</th>\n",
       "      <td>460</td>\n",
       "      <td>8</td>\n",
       "    </tr>\n",
       "    <tr>\n",
       "      <th>460</th>\n",
       "      <td>461</td>\n",
       "      <td>4</td>\n",
       "    </tr>\n",
       "    <tr>\n",
       "      <th>461</th>\n",
       "      <td>462</td>\n",
       "      <td>11</td>\n",
       "    </tr>\n",
       "    <tr>\n",
       "      <th>462</th>\n",
       "      <td>463</td>\n",
       "      <td>2</td>\n",
       "    </tr>\n",
       "  </tbody>\n",
       "</table>\n",
       "<p>463 rows × 2 columns</p>\n",
       "</div>"
      ],
      "text/plain": [
       "     user_id  num_appts\n",
       "0          1          2\n",
       "1          2          7\n",
       "2          3          4\n",
       "3          4          8\n",
       "4          5          1\n",
       "..       ...        ...\n",
       "458      459          5\n",
       "459      460          8\n",
       "460      461          4\n",
       "461      462         11\n",
       "462      463          2\n",
       "\n",
       "[463 rows x 2 columns]"
      ]
     },
     "execution_count": 152,
     "metadata": {},
     "output_type": "execute_result"
    }
   ],
   "source": [
    "df = df_appts.copy()\n",
    "df = df.groupby('user_id', as_index=False).count()\n",
    "df = df.drop(columns=['appt_id', 'appointment_date', 'channel'])\n",
    "df = df.rename(columns={\"type\": \"num_appts\"})\n",
    "df.head()"
   ]
  },
  {
   "cell_type": "code",
   "execution_count": 157,
   "metadata": {},
   "outputs": [
    {
     "data": {
      "text/html": [
       "<div>\n",
       "<style scoped>\n",
       "    .dataframe tbody tr th:only-of-type {\n",
       "        vertical-align: middle;\n",
       "    }\n",
       "\n",
       "    .dataframe tbody tr th {\n",
       "        vertical-align: top;\n",
       "    }\n",
       "\n",
       "    .dataframe thead th {\n",
       "        text-align: right;\n",
       "    }\n",
       "</style>\n",
       "<table border=\"1\" class=\"dataframe\">\n",
       "  <thead>\n",
       "    <tr style=\"text-align: right;\">\n",
       "      <th></th>\n",
       "      <th>user_id</th>\n",
       "      <th>num_appts</th>\n",
       "      <th>num_days</th>\n",
       "    </tr>\n",
       "  </thead>\n",
       "  <tbody>\n",
       "    <tr>\n",
       "      <th>0</th>\n",
       "      <td>1</td>\n",
       "      <td>2</td>\n",
       "      <td>126</td>\n",
       "    </tr>\n",
       "    <tr>\n",
       "      <th>1</th>\n",
       "      <td>2</td>\n",
       "      <td>7</td>\n",
       "      <td>396</td>\n",
       "    </tr>\n",
       "    <tr>\n",
       "      <th>2</th>\n",
       "      <td>3</td>\n",
       "      <td>4</td>\n",
       "      <td>242</td>\n",
       "    </tr>\n",
       "    <tr>\n",
       "      <th>3</th>\n",
       "      <td>4</td>\n",
       "      <td>8</td>\n",
       "      <td>621</td>\n",
       "    </tr>\n",
       "    <tr>\n",
       "      <th>4</th>\n",
       "      <td>5</td>\n",
       "      <td>1</td>\n",
       "      <td>106</td>\n",
       "    </tr>\n",
       "  </tbody>\n",
       "</table>\n",
       "</div>"
      ],
      "text/plain": [
       "   user_id  num_appts  num_days\n",
       "0        1          2       126\n",
       "1        2          7       396\n",
       "2        3          4       242\n",
       "3        4          8       621\n",
       "4        5          1       106"
      ]
     },
     "execution_count": 157,
     "metadata": {},
     "output_type": "execute_result"
    }
   ],
   "source": [
    "df['num_days'] = df_users['num_days']\n",
    "df.head()"
   ]
  },
  {
   "cell_type": "markdown",
   "metadata": {},
   "source": [
    "# Type of first appt"
   ]
  },
  {
   "cell_type": "code",
   "execution_count": 158,
   "metadata": {},
   "outputs": [
    {
     "data": {
      "text/html": [
       "<div>\n",
       "<style scoped>\n",
       "    .dataframe tbody tr th:only-of-type {\n",
       "        vertical-align: middle;\n",
       "    }\n",
       "\n",
       "    .dataframe tbody tr th {\n",
       "        vertical-align: top;\n",
       "    }\n",
       "\n",
       "    .dataframe thead th {\n",
       "        text-align: right;\n",
       "    }\n",
       "</style>\n",
       "<table border=\"1\" class=\"dataframe\">\n",
       "  <thead>\n",
       "    <tr style=\"text-align: right;\">\n",
       "      <th></th>\n",
       "      <th>index</th>\n",
       "      <th>appt_id</th>\n",
       "      <th>user_id</th>\n",
       "      <th>appointment_date</th>\n",
       "      <th>channel</th>\n",
       "      <th>type</th>\n",
       "      <th>num_days</th>\n",
       "    </tr>\n",
       "  </thead>\n",
       "  <tbody>\n",
       "    <tr>\n",
       "      <th>0</th>\n",
       "      <td>0</td>\n",
       "      <td>1</td>\n",
       "      <td>1</td>\n",
       "      <td>2010-08-10</td>\n",
       "      <td>chat</td>\n",
       "      <td>first</td>\n",
       "      <td>126</td>\n",
       "    </tr>\n",
       "    <tr>\n",
       "      <th>1</th>\n",
       "      <td>2</td>\n",
       "      <td>3</td>\n",
       "      <td>2</td>\n",
       "      <td>2011-06-18</td>\n",
       "      <td>presential</td>\n",
       "      <td>first</td>\n",
       "      <td>396</td>\n",
       "    </tr>\n",
       "    <tr>\n",
       "      <th>2</th>\n",
       "      <td>9</td>\n",
       "      <td>10</td>\n",
       "      <td>3</td>\n",
       "      <td>2010-08-12</td>\n",
       "      <td>chat</td>\n",
       "      <td>first</td>\n",
       "      <td>242</td>\n",
       "    </tr>\n",
       "    <tr>\n",
       "      <th>3</th>\n",
       "      <td>13</td>\n",
       "      <td>14</td>\n",
       "      <td>4</td>\n",
       "      <td>2011-11-14</td>\n",
       "      <td>chat</td>\n",
       "      <td>first</td>\n",
       "      <td>621</td>\n",
       "    </tr>\n",
       "    <tr>\n",
       "      <th>4</th>\n",
       "      <td>21</td>\n",
       "      <td>22</td>\n",
       "      <td>5</td>\n",
       "      <td>2011-11-10</td>\n",
       "      <td>chat</td>\n",
       "      <td>first</td>\n",
       "      <td>106</td>\n",
       "    </tr>\n",
       "    <tr>\n",
       "      <th>...</th>\n",
       "      <td>...</td>\n",
       "      <td>...</td>\n",
       "      <td>...</td>\n",
       "      <td>...</td>\n",
       "      <td>...</td>\n",
       "      <td>...</td>\n",
       "      <td>...</td>\n",
       "    </tr>\n",
       "    <tr>\n",
       "      <th>458</th>\n",
       "      <td>2660</td>\n",
       "      <td>2661</td>\n",
       "      <td>459</td>\n",
       "      <td>2011-08-19</td>\n",
       "      <td>chat</td>\n",
       "      <td>first</td>\n",
       "      <td>354</td>\n",
       "    </tr>\n",
       "    <tr>\n",
       "      <th>459</th>\n",
       "      <td>2665</td>\n",
       "      <td>2666</td>\n",
       "      <td>460</td>\n",
       "      <td>2012-07-08</td>\n",
       "      <td>chat</td>\n",
       "      <td>first</td>\n",
       "      <td>630</td>\n",
       "    </tr>\n",
       "    <tr>\n",
       "      <th>460</th>\n",
       "      <td>2673</td>\n",
       "      <td>2674</td>\n",
       "      <td>461</td>\n",
       "      <td>2011-08-15</td>\n",
       "      <td>chat</td>\n",
       "      <td>first</td>\n",
       "      <td>225</td>\n",
       "    </tr>\n",
       "    <tr>\n",
       "      <th>461</th>\n",
       "      <td>2677</td>\n",
       "      <td>2678</td>\n",
       "      <td>462</td>\n",
       "      <td>2013-04-26</td>\n",
       "      <td>chat</td>\n",
       "      <td>first</td>\n",
       "      <td>897</td>\n",
       "    </tr>\n",
       "    <tr>\n",
       "      <th>462</th>\n",
       "      <td>2688</td>\n",
       "      <td>2689</td>\n",
       "      <td>463</td>\n",
       "      <td>2010-09-14</td>\n",
       "      <td>chat</td>\n",
       "      <td>first</td>\n",
       "      <td>202</td>\n",
       "    </tr>\n",
       "  </tbody>\n",
       "</table>\n",
       "<p>463 rows × 7 columns</p>\n",
       "</div>"
      ],
      "text/plain": [
       "     index  appt_id  user_id appointment_date     channel   type  num_days\n",
       "0        0        1        1       2010-08-10        chat  first       126\n",
       "1        2        3        2       2011-06-18  presential  first       396\n",
       "2        9       10        3       2010-08-12        chat  first       242\n",
       "3       13       14        4       2011-11-14        chat  first       621\n",
       "4       21       22        5       2011-11-10        chat  first       106\n",
       "..     ...      ...      ...              ...         ...    ...       ...\n",
       "458   2660     2661      459       2011-08-19        chat  first       354\n",
       "459   2665     2666      460       2012-07-08        chat  first       630\n",
       "460   2673     2674      461       2011-08-15        chat  first       225\n",
       "461   2677     2678      462       2013-04-26        chat  first       897\n",
       "462   2688     2689      463       2010-09-14        chat  first       202\n",
       "\n",
       "[463 rows x 7 columns]"
      ]
     },
     "execution_count": 158,
     "metadata": {},
     "output_type": "execute_result"
    }
   ],
   "source": [
    "df = df_appts.copy()\n",
    "df = df[df['type'] == 'first']\n",
    "df = df.reset_index()\n",
    "df['num_days'] = df_users['num_days']\n",
    "df"
   ]
  },
  {
   "cell_type": "code",
   "execution_count": 159,
   "metadata": {},
   "outputs": [
    {
     "data": {
      "text/plain": [
       "<matplotlib.axes._subplots.AxesSubplot at 0x123016c18>"
      ]
     },
     "execution_count": 159,
     "metadata": {},
     "output_type": "execute_result"
    },
    {
     "data": {
      "image/png": "[encoded data removed]",
      "text/plain": [
       "<Figure size 432x288 with 1 Axes>"
      ]
     },
     "metadata": {
      "needs_background": "light"
     },
     "output_type": "display_data"
    }
   ],
   "source": [
    "df[['num_days', 'channel']].pivot(columns='channel').plot(kind='hist', stacked=True)"
   ]
  },
  {
   "cell_type": "code",
   "execution_count": 160,
   "metadata": {},
   "outputs": [
    {
     "data": {
      "text/html": [
       "<table class=\"simpletable\">\n",
       "<caption>OLS Regression Results</caption>\n",
       "<tr>\n",
       "  <th>Dep. Variable:</th>        <td>num_days</td>     <th>  R-squared:         </th> <td>   0.001</td>\n",
       "</tr>\n",
       "<tr>\n",
       "  <th>Model:</th>                   <td>OLS</td>       <th>  Adj. R-squared:    </th> <td>  -0.001</td>\n",
       "</tr>\n",
       "<tr>\n",
       "  <th>Method:</th>             <td>Least Squares</td>  <th>  F-statistic:       </th> <td>  0.4329</td>\n",
       "</tr>\n",
       "<tr>\n",
       "  <th>Date:</th>             <td>Mon, 06 Apr 2020</td> <th>  Prob (F-statistic):</th>  <td> 0.511</td> \n",
       "</tr>\n",
       "<tr>\n",
       "  <th>Time:</th>                 <td>02:51:32</td>     <th>  Log-Likelihood:    </th> <td> -3302.1</td>\n",
       "</tr>\n",
       "<tr>\n",
       "  <th>No. Observations:</th>      <td>   463</td>      <th>  AIC:               </th> <td>   6608.</td>\n",
       "</tr>\n",
       "<tr>\n",
       "  <th>Df Residuals:</th>          <td>   461</td>      <th>  BIC:               </th> <td>   6616.</td>\n",
       "</tr>\n",
       "<tr>\n",
       "  <th>Df Model:</th>              <td>     1</td>      <th>                     </th>     <td> </td>   \n",
       "</tr>\n",
       "<tr>\n",
       "  <th>Covariance Type:</th>      <td>nonrobust</td>    <th>                     </th>     <td> </td>   \n",
       "</tr>\n",
       "</table>\n",
       "<table class=\"simpletable\">\n",
       "<tr>\n",
       "              <td></td>                <th>coef</th>     <th>std err</th>      <th>t</th>      <th>P>|t|</th>  <th>[0.025</th>    <th>0.975]</th>  \n",
       "</tr>\n",
       "<tr>\n",
       "  <th>Intercept</th>                <td>  453.4959</td> <td>   15.926</td> <td>   28.476</td> <td> 0.000</td> <td>  422.200</td> <td>  484.792</td>\n",
       "</tr>\n",
       "<tr>\n",
       "  <th>C(channel)[T.presential]</th> <td>  -22.5459</td> <td>   34.268</td> <td>   -0.658</td> <td> 0.511</td> <td>  -89.887</td> <td>   44.795</td>\n",
       "</tr>\n",
       "</table>\n",
       "<table class=\"simpletable\">\n",
       "<tr>\n",
       "  <th>Omnibus:</th>       <td>224.537</td> <th>  Durbin-Watson:     </th> <td>   3.560</td>\n",
       "</tr>\n",
       "<tr>\n",
       "  <th>Prob(Omnibus):</th> <td> 0.000</td>  <th>  Jarque-Bera (JB):  </th> <td>  35.266</td>\n",
       "</tr>\n",
       "<tr>\n",
       "  <th>Skew:</th>          <td> 0.350</td>  <th>  Prob(JB):          </th> <td>2.20e-08</td>\n",
       "</tr>\n",
       "<tr>\n",
       "  <th>Kurtosis:</th>      <td> 1.844</td>  <th>  Cond. No.          </th> <td>    2.57</td>\n",
       "</tr>\n",
       "</table><br/><br/>Warnings:<br/>[1] Standard Errors assume that the covariance matrix of the errors is correctly specified."
      ],
      "text/plain": [
       "<class 'statsmodels.iolib.summary.Summary'>\n",
       "\"\"\"\n",
       "                            OLS Regression Results                            \n",
       "==============================================================================\n",
       "Dep. Variable:               num_days   R-squared:                       0.001\n",
       "Model:                            OLS   Adj. R-squared:                 -0.001\n",
       "Method:                 Least Squares   F-statistic:                    0.4329\n",
       "Date:                Mon, 06 Apr 2020   Prob (F-statistic):              0.511\n",
       "Time:                        02:51:32   Log-Likelihood:                -3302.1\n",
       "No. Observations:                 463   AIC:                             6608.\n",
       "Df Residuals:                     461   BIC:                             6616.\n",
       "Df Model:                           1                                         \n",
       "Covariance Type:            nonrobust                                         \n",
       "============================================================================================\n",
       "                               coef    std err          t      P>|t|      [0.025      0.975]\n",
       "--------------------------------------------------------------------------------------------\n",
       "Intercept                  453.4959     15.926     28.476      0.000     422.200     484.792\n",
       "C(channel)[T.presential]   -22.5459     34.268     -0.658      0.511     -89.887      44.795\n",
       "==============================================================================\n",
       "Omnibus:                      224.537   Durbin-Watson:                   3.560\n",
       "Prob(Omnibus):                  0.000   Jarque-Bera (JB):               35.266\n",
       "Skew:                           0.350   Prob(JB):                     2.20e-08\n",
       "Kurtosis:                       1.844   Cond. No.                         2.57\n",
       "==============================================================================\n",
       "\n",
       "Warnings:\n",
       "[1] Standard Errors assume that the covariance matrix of the errors is correctly specified.\n",
       "\"\"\""
      ]
     },
     "execution_count": 160,
     "metadata": {},
     "output_type": "execute_result"
    }
   ],
   "source": [
    "from statsmodels.formula.api import ols\n",
    "\n",
    "model = ols('num_days ~ C(channel)', data=df)\n",
    "fitted_model = model.fit()\n",
    "fitted_model.summary()"
   ]
  },
  {
   "cell_type": "markdown",
   "metadata": {},
   "source": [
    "# Type of last appt"
   ]
  },
  {
   "cell_type": "code",
   "execution_count": 176,
   "metadata": {},
   "outputs": [
    {
     "data": {
      "text/html": [
       "<div>\n",
       "<style scoped>\n",
       "    .dataframe tbody tr th:only-of-type {\n",
       "        vertical-align: middle;\n",
       "    }\n",
       "\n",
       "    .dataframe tbody tr th {\n",
       "        vertical-align: top;\n",
       "    }\n",
       "\n",
       "    .dataframe thead th {\n",
       "        text-align: right;\n",
       "    }\n",
       "</style>\n",
       "<table border=\"1\" class=\"dataframe\">\n",
       "  <thead>\n",
       "    <tr style=\"text-align: right;\">\n",
       "      <th></th>\n",
       "      <th>index</th>\n",
       "      <th>appt_id</th>\n",
       "      <th>user_id</th>\n",
       "      <th>appointment_date</th>\n",
       "      <th>channel</th>\n",
       "      <th>type</th>\n",
       "      <th>num_days</th>\n",
       "    </tr>\n",
       "  </thead>\n",
       "  <tbody>\n",
       "    <tr>\n",
       "      <th>0</th>\n",
       "      <td>1</td>\n",
       "      <td>2</td>\n",
       "      <td>1</td>\n",
       "      <td>2010-10-29</td>\n",
       "      <td>chat</td>\n",
       "      <td>regular</td>\n",
       "      <td>126</td>\n",
       "    </tr>\n",
       "    <tr>\n",
       "      <th>1</th>\n",
       "      <td>6</td>\n",
       "      <td>7</td>\n",
       "      <td>2</td>\n",
       "      <td>2012-02-17</td>\n",
       "      <td>presential</td>\n",
       "      <td>regular</td>\n",
       "      <td>396</td>\n",
       "    </tr>\n",
       "    <tr>\n",
       "      <th>2</th>\n",
       "      <td>9</td>\n",
       "      <td>10</td>\n",
       "      <td>3</td>\n",
       "      <td>2010-08-12</td>\n",
       "      <td>chat</td>\n",
       "      <td>first</td>\n",
       "      <td>242</td>\n",
       "    </tr>\n",
       "    <tr>\n",
       "      <th>3</th>\n",
       "      <td>15</td>\n",
       "      <td>16</td>\n",
       "      <td>4</td>\n",
       "      <td>2012-07-05</td>\n",
       "      <td>chat</td>\n",
       "      <td>regular</td>\n",
       "      <td>621</td>\n",
       "    </tr>\n",
       "    <tr>\n",
       "      <th>4</th>\n",
       "      <td>21</td>\n",
       "      <td>22</td>\n",
       "      <td>5</td>\n",
       "      <td>2011-11-10</td>\n",
       "      <td>chat</td>\n",
       "      <td>first</td>\n",
       "      <td>106</td>\n",
       "    </tr>\n",
       "  </tbody>\n",
       "</table>\n",
       "</div>"
      ],
      "text/plain": [
       "   index  appt_id  user_id appointment_date     channel     type  num_days\n",
       "0      1        2        1       2010-10-29        chat  regular       126\n",
       "1      6        7        2       2012-02-17  presential  regular       396\n",
       "2      9       10        3       2010-08-12        chat    first       242\n",
       "3     15       16        4       2012-07-05        chat  regular       621\n",
       "4     21       22        5       2011-11-10        chat    first       106"
      ]
     },
     "execution_count": 176,
     "metadata": {},
     "output_type": "execute_result"
    }
   ],
   "source": [
    "df = df_appts.copy()\n",
    "\n",
    "df.sort_values(by = ['user_id', 'appointment_date'], axis=0, ascending=True, inplace=True)\n",
    "\n",
    "df.drop_duplicates(subset = 'user_id', keep = 'last', inplace = True)\n",
    "df = df.reset_index()\n",
    "df['num_days'] = df_users['num_days']\n",
    "\n",
    "df.head()"
   ]
  },
  {
   "cell_type": "code",
   "execution_count": 177,
   "metadata": {},
   "outputs": [
    {
     "data": {
      "text/plain": [
       "<matplotlib.axes._subplots.AxesSubplot at 0x12b296400>"
      ]
     },
     "execution_count": 177,
     "metadata": {},
     "output_type": "execute_result"
    },
    {
     "data": {
      "image/png": "[encoded data removed]",
      "text/plain": [
       "<Figure size 432x288 with 1 Axes>"
      ]
     },
     "metadata": {
      "needs_background": "light"
     },
     "output_type": "display_data"
    }
   ],
   "source": [
    "df[['num_days', 'channel']].pivot(columns='channel').plot(kind='hist', stacked=True)"
   ]
  },
  {
   "cell_type": "code",
   "execution_count": 178,
   "metadata": {},
   "outputs": [
    {
     "data": {
      "text/html": [
       "<table class=\"simpletable\">\n",
       "<caption>OLS Regression Results</caption>\n",
       "<tr>\n",
       "  <th>Dep. Variable:</th>        <td>num_days</td>     <th>  R-squared:         </th> <td>   0.001</td>\n",
       "</tr>\n",
       "<tr>\n",
       "  <th>Model:</th>                   <td>OLS</td>       <th>  Adj. R-squared:    </th> <td>  -0.002</td>\n",
       "</tr>\n",
       "<tr>\n",
       "  <th>Method:</th>             <td>Least Squares</td>  <th>  F-statistic:       </th> <td>  0.2857</td>\n",
       "</tr>\n",
       "<tr>\n",
       "  <th>Date:</th>             <td>Mon, 06 Apr 2020</td> <th>  Prob (F-statistic):</th>  <td> 0.593</td> \n",
       "</tr>\n",
       "<tr>\n",
       "  <th>Time:</th>                 <td>03:26:44</td>     <th>  Log-Likelihood:    </th> <td> -3302.1</td>\n",
       "</tr>\n",
       "<tr>\n",
       "  <th>No. Observations:</th>      <td>   463</td>      <th>  AIC:               </th> <td>   6608.</td>\n",
       "</tr>\n",
       "<tr>\n",
       "  <th>Df Residuals:</th>          <td>   461</td>      <th>  BIC:               </th> <td>   6617.</td>\n",
       "</tr>\n",
       "<tr>\n",
       "  <th>Df Model:</th>              <td>     1</td>      <th>                     </th>     <td> </td>   \n",
       "</tr>\n",
       "<tr>\n",
       "  <th>Covariance Type:</th>      <td>nonrobust</td>    <th>                     </th>     <td> </td>   \n",
       "</tr>\n",
       "</table>\n",
       "<table class=\"simpletable\">\n",
       "<tr>\n",
       "              <td></td>                <th>coef</th>     <th>std err</th>      <th>t</th>      <th>P>|t|</th>  <th>[0.025</th>    <th>0.975]</th>  \n",
       "</tr>\n",
       "<tr>\n",
       "  <th>Intercept</th>                <td>  444.2174</td> <td>   16.338</td> <td>   27.188</td> <td> 0.000</td> <td>  412.110</td> <td>  476.324</td>\n",
       "</tr>\n",
       "<tr>\n",
       "  <th>C(channel)[T.presential]</th> <td>   17.2996</td> <td>   32.364</td> <td>    0.535</td> <td> 0.593</td> <td>  -46.299</td> <td>   80.899</td>\n",
       "</tr>\n",
       "</table>\n",
       "<table class=\"simpletable\">\n",
       "<tr>\n",
       "  <th>Omnibus:</th>       <td>254.190</td> <th>  Durbin-Watson:     </th> <td>   3.567</td>\n",
       "</tr>\n",
       "<tr>\n",
       "  <th>Prob(Omnibus):</th> <td> 0.000</td>  <th>  Jarque-Bera (JB):  </th> <td>  35.810</td>\n",
       "</tr>\n",
       "<tr>\n",
       "  <th>Skew:</th>          <td> 0.343</td>  <th>  Prob(JB):          </th> <td>1.67e-08</td>\n",
       "</tr>\n",
       "<tr>\n",
       "  <th>Kurtosis:</th>      <td> 1.823</td>  <th>  Cond. No.          </th> <td>    2.48</td>\n",
       "</tr>\n",
       "</table><br/><br/>Warnings:<br/>[1] Standard Errors assume that the covariance matrix of the errors is correctly specified."
      ],
      "text/plain": [
       "<class 'statsmodels.iolib.summary.Summary'>\n",
       "\"\"\"\n",
       "                            OLS Regression Results                            \n",
       "==============================================================================\n",
       "Dep. Variable:               num_days   R-squared:                       0.001\n",
       "Model:                            OLS   Adj. R-squared:                 -0.002\n",
       "Method:                 Least Squares   F-statistic:                    0.2857\n",
       "Date:                Mon, 06 Apr 2020   Prob (F-statistic):              0.593\n",
       "Time:                        03:26:44   Log-Likelihood:                -3302.1\n",
       "No. Observations:                 463   AIC:                             6608.\n",
       "Df Residuals:                     461   BIC:                             6617.\n",
       "Df Model:                           1                                         \n",
       "Covariance Type:            nonrobust                                         \n",
       "============================================================================================\n",
       "                               coef    std err          t      P>|t|      [0.025      0.975]\n",
       "--------------------------------------------------------------------------------------------\n",
       "Intercept                  444.2174     16.338     27.188      0.000     412.110     476.324\n",
       "C(channel)[T.presential]    17.2996     32.364      0.535      0.593     -46.299      80.899\n",
       "==============================================================================\n",
       "Omnibus:                      254.190   Durbin-Watson:                   3.567\n",
       "Prob(Omnibus):                  0.000   Jarque-Bera (JB):               35.810\n",
       "Skew:                           0.343   Prob(JB):                     1.67e-08\n",
       "Kurtosis:                       1.823   Cond. No.                         2.48\n",
       "==============================================================================\n",
       "\n",
       "Warnings:\n",
       "[1] Standard Errors assume that the covariance matrix of the errors is correctly specified.\n",
       "\"\"\""
      ]
     },
     "execution_count": 178,
     "metadata": {},
     "output_type": "execute_result"
    }
   ],
   "source": [
    "from statsmodels.formula.api import ols\n",
    "\n",
    "model = ols('num_days ~ C(channel)', data=df)\n",
    "fitted_model = model.fit()\n",
    "fitted_model.summary()"
   ]
  },
  {
   "cell_type": "code",
   "execution_count": null,
   "metadata": {},
   "outputs": [],
   "source": []
  }
 ],
 "metadata": {
  "kernelspec": {
   "display_name": "Python 3",
   "language": "python",
   "name": "python3"
  },
  "language_info": {
   "codemirror_mode": {
    "name": "ipython",
    "version": 3
   },
   "file_extension": ".py",
   "mimetype": "text/x-python",
   "name": "python",
   "nbconvert_exporter": "python",
   "pygments_lexer": "ipython3",
   "version": "3.7.1"
  }
 },
 "nbformat": 4,
 "nbformat_minor": 4
}
