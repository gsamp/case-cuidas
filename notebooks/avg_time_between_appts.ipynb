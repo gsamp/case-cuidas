{
 "cells": [
  {
   "cell_type": "markdown",
   "metadata": {},
   "source": [
    "# Import Modules"
   ]
  },
  {
   "cell_type": "code",
   "execution_count": 2,
   "metadata": {},
   "outputs": [],
   "source": [
    "import pandas as pd\n",
    "import numpy as np\n",
    "import matplotlib.pyplot as plt\n",
    "import datetime as dt\n",
    "import seaborn as sn\n",
    "from statsmodels.formula.api import ols"
   ]
  },
  {
   "cell_type": "markdown",
   "metadata": {},
   "source": [
    "# Prep Data"
   ]
  },
  {
   "cell_type": "code",
   "execution_count": 3,
   "metadata": {},
   "outputs": [
    {
     "data": {
      "text/html": [
       "<div>\n",
       "<style scoped>\n",
       "    .dataframe tbody tr th:only-of-type {\n",
       "        vertical-align: middle;\n",
       "    }\n",
       "\n",
       "    .dataframe tbody tr th {\n",
       "        vertical-align: top;\n",
       "    }\n",
       "\n",
       "    .dataframe thead th {\n",
       "        text-align: right;\n",
       "    }\n",
       "</style>\n",
       "<table border=\"1\" class=\"dataframe\">\n",
       "  <thead>\n",
       "    <tr style=\"text-align: right;\">\n",
       "      <th></th>\n",
       "      <th>user_id</th>\n",
       "      <th>gender</th>\n",
       "      <th>birth_date</th>\n",
       "      <th>start_date</th>\n",
       "      <th>end_date</th>\n",
       "      <th>city_code</th>\n",
       "    </tr>\n",
       "  </thead>\n",
       "  <tbody>\n",
       "    <tr>\n",
       "      <th>0</th>\n",
       "      <td>1</td>\n",
       "      <td>female</td>\n",
       "      <td>1981-07-07</td>\n",
       "      <td>2010-06-29</td>\n",
       "      <td>2010-11-02</td>\n",
       "      <td>3</td>\n",
       "    </tr>\n",
       "    <tr>\n",
       "      <th>1</th>\n",
       "      <td>2</td>\n",
       "      <td>male</td>\n",
       "      <td>1996-10-08</td>\n",
       "      <td>2011-01-18</td>\n",
       "      <td>2012-02-18</td>\n",
       "      <td>1</td>\n",
       "    </tr>\n",
       "    <tr>\n",
       "      <th>2</th>\n",
       "      <td>3</td>\n",
       "      <td>female</td>\n",
       "      <td>1986-06-03</td>\n",
       "      <td>2010-01-13</td>\n",
       "      <td>2010-09-12</td>\n",
       "      <td>3</td>\n",
       "    </tr>\n",
       "    <tr>\n",
       "      <th>3</th>\n",
       "      <td>4</td>\n",
       "      <td>male</td>\n",
       "      <td>1992-07-28</td>\n",
       "      <td>2010-11-19</td>\n",
       "      <td>2012-08-01</td>\n",
       "      <td>3</td>\n",
       "    </tr>\n",
       "    <tr>\n",
       "      <th>4</th>\n",
       "      <td>5</td>\n",
       "      <td>male</td>\n",
       "      <td>1981-04-21</td>\n",
       "      <td>2011-08-27</td>\n",
       "      <td>2011-12-11</td>\n",
       "      <td>2</td>\n",
       "    </tr>\n",
       "  </tbody>\n",
       "</table>\n",
       "</div>"
      ],
      "text/plain": [
       "   user_id  gender birth_date start_date   end_date  city_code\n",
       "0        1  female 1981-07-07 2010-06-29 2010-11-02          3\n",
       "1        2    male 1996-10-08 2011-01-18 2012-02-18          1\n",
       "2        3  female 1986-06-03 2010-01-13 2010-09-12          3\n",
       "3        4    male 1992-07-28 2010-11-19 2012-08-01          3\n",
       "4        5    male 1981-04-21 2011-08-27 2011-12-11          2"
      ]
     },
     "execution_count": 3,
     "metadata": {},
     "output_type": "execute_result"
    }
   ],
   "source": [
    "# import data into local dataframes \n",
    "filepath = '../data/data-case.xlsx'\n",
    "df_users = pd.read_excel(filepath, sheet_name='users')\n",
    "df_nps = pd.read_excel(filepath, sheet_name='nps')\n",
    "df_appts = pd.read_excel(filepath, sheet_name='appointments')\n",
    "\n",
    "# visualize dataframes\n",
    "df_users.head()\n",
    "\n",
    "# uncomment and run last to visualize\n",
    "# df_nps.head()\n",
    "# df_appts.head()"
   ]
  },
  {
   "cell_type": "code",
   "execution_count": 4,
   "metadata": {},
   "outputs": [
    {
     "data": {
      "text/html": [
       "<div>\n",
       "<style scoped>\n",
       "    .dataframe tbody tr th:only-of-type {\n",
       "        vertical-align: middle;\n",
       "    }\n",
       "\n",
       "    .dataframe tbody tr th {\n",
       "        vertical-align: top;\n",
       "    }\n",
       "\n",
       "    .dataframe thead th {\n",
       "        text-align: right;\n",
       "    }\n",
       "</style>\n",
       "<table border=\"1\" class=\"dataframe\">\n",
       "  <thead>\n",
       "    <tr style=\"text-align: right;\">\n",
       "      <th></th>\n",
       "      <th>user_id</th>\n",
       "      <th>gender</th>\n",
       "      <th>birth_date</th>\n",
       "      <th>start_date</th>\n",
       "      <th>end_date</th>\n",
       "      <th>city_code</th>\n",
       "      <th>num_days</th>\n",
       "    </tr>\n",
       "  </thead>\n",
       "  <tbody>\n",
       "    <tr>\n",
       "      <th>458</th>\n",
       "      <td>459</td>\n",
       "      <td>male</td>\n",
       "      <td>1994-09-26</td>\n",
       "      <td>2010-09-08</td>\n",
       "      <td>2011-08-28</td>\n",
       "      <td>3</td>\n",
       "      <td>354</td>\n",
       "    </tr>\n",
       "    <tr>\n",
       "      <th>459</th>\n",
       "      <td>460</td>\n",
       "      <td>male</td>\n",
       "      <td>1986-05-04</td>\n",
       "      <td>2011-08-17</td>\n",
       "      <td>2013-05-08</td>\n",
       "      <td>4</td>\n",
       "      <td>630</td>\n",
       "    </tr>\n",
       "    <tr>\n",
       "      <th>460</th>\n",
       "      <td>461</td>\n",
       "      <td>male</td>\n",
       "      <td>1996-01-29</td>\n",
       "      <td>2011-06-18</td>\n",
       "      <td>2012-01-29</td>\n",
       "      <td>3</td>\n",
       "      <td>225</td>\n",
       "    </tr>\n",
       "    <tr>\n",
       "      <th>461</th>\n",
       "      <td>462</td>\n",
       "      <td>male</td>\n",
       "      <td>1984-03-27</td>\n",
       "      <td>2011-01-14</td>\n",
       "      <td>2013-06-29</td>\n",
       "      <td>3</td>\n",
       "      <td>897</td>\n",
       "    </tr>\n",
       "    <tr>\n",
       "      <th>462</th>\n",
       "      <td>463</td>\n",
       "      <td>female</td>\n",
       "      <td>1995-12-31</td>\n",
       "      <td>2010-09-05</td>\n",
       "      <td>2011-03-26</td>\n",
       "      <td>3</td>\n",
       "      <td>202</td>\n",
       "    </tr>\n",
       "  </tbody>\n",
       "</table>\n",
       "</div>"
      ],
      "text/plain": [
       "     user_id  gender birth_date start_date   end_date  city_code  num_days\n",
       "458      459    male 1994-09-26 2010-09-08 2011-08-28          3       354\n",
       "459      460    male 1986-05-04 2011-08-17 2013-05-08          4       630\n",
       "460      461    male 1996-01-29 2011-06-18 2012-01-29          3       225\n",
       "461      462    male 1984-03-27 2011-01-14 2013-06-29          3       897\n",
       "462      463  female 1995-12-31 2010-09-05 2011-03-26          3       202"
      ]
     },
     "execution_count": 4,
     "metadata": {},
     "output_type": "execute_result"
    }
   ],
   "source": [
    "\"\"\" Extend `df_users` by adding the total number days a user has been a client.\n",
    "    This is the variable we care about. \n",
    "    \n",
    "    num_days = end_date - start_date, end date inclusive\n",
    "\"\"\"\n",
    "df_users['num_days'] = df_users['end_date'] - df_users['start_date']\n",
    "df_users['num_days'] = df_users['num_days'].dt.days\n",
    "df_users.head()"
   ]
  },
  {
   "cell_type": "code",
   "execution_count": 59,
   "metadata": {},
   "outputs": [
    {
     "data": {
      "text/plain": [
       "Text(0.5, 1.0, 'Distribution of days over the entire dataset')"
      ]
     },
     "execution_count": 59,
     "metadata": {},
     "output_type": "execute_result"
    },
    {
     "data": {
      "image/png": "[encoded data removed]",
      "text/plain": [
       "<Figure size 936x360 with 1 Axes>"
      ]
     },
     "metadata": {
      "needs_background": "light"
     },
     "output_type": "display_data"
    }
   ],
   "source": [
    "# Visualize distribution of days spent in the platform\n",
    "plt.figure(figsize=(13,5))\n",
    "ax = df_users['num_days'].plot.hist()\n",
    "\n",
    "# Set common labels\n",
    "ax.set_xlabel('Total number of days as a client in the platform')\n",
    "ax.set_ylabel('Number of users')\n",
    "ax.set_title('Distribution of days over the entire dataset')"
   ]
  },
  {
   "cell_type": "markdown",
   "metadata": {},
   "source": [
    "# Average time between appts"
   ]
  },
  {
   "cell_type": "code",
   "execution_count": 61,
   "metadata": {},
   "outputs": [
    {
     "name": "stderr",
     "output_type": "stream",
     "text": [
      "/Users/Georgia/Desktop/case-cuidas/.env/lib/python3.7/site-packages/ipykernel_launcher.py:9: SettingWithCopyWarning: \n",
      "A value is trying to be set on a copy of a slice from a DataFrame\n",
      "\n",
      "See the caveats in the documentation: http://pandas.pydata.org/pandas-docs/stable/user_guide/indexing.html#returning-a-view-versus-a-copy\n",
      "  if __name__ == '__main__':\n"
     ]
    },
    {
     "data": {
      "text/html": [
       "<div>\n",
       "<style scoped>\n",
       "    .dataframe tbody tr th:only-of-type {\n",
       "        vertical-align: middle;\n",
       "    }\n",
       "\n",
       "    .dataframe tbody tr th {\n",
       "        vertical-align: top;\n",
       "    }\n",
       "\n",
       "    .dataframe thead th {\n",
       "        text-align: right;\n",
       "    }\n",
       "</style>\n",
       "<table border=\"1\" class=\"dataframe\">\n",
       "  <thead>\n",
       "    <tr style=\"text-align: right;\">\n",
       "      <th></th>\n",
       "      <th>appt_id</th>\n",
       "      <th>user_id</th>\n",
       "      <th>appointment_date</th>\n",
       "      <th>channel</th>\n",
       "      <th>type</th>\n",
       "      <th>time_diff</th>\n",
       "    </tr>\n",
       "  </thead>\n",
       "  <tbody>\n",
       "    <tr>\n",
       "      <th>0</th>\n",
       "      <td>1</td>\n",
       "      <td>1</td>\n",
       "      <td>2010-08-10</td>\n",
       "      <td>chat</td>\n",
       "      <td>first</td>\n",
       "      <td>0</td>\n",
       "    </tr>\n",
       "    <tr>\n",
       "      <th>1</th>\n",
       "      <td>2</td>\n",
       "      <td>1</td>\n",
       "      <td>2010-10-29</td>\n",
       "      <td>chat</td>\n",
       "      <td>regular</td>\n",
       "      <td>80</td>\n",
       "    </tr>\n",
       "    <tr>\n",
       "      <th>2</th>\n",
       "      <td>3</td>\n",
       "      <td>2</td>\n",
       "      <td>2011-06-18</td>\n",
       "      <td>presential</td>\n",
       "      <td>first</td>\n",
       "      <td>232</td>\n",
       "    </tr>\n",
       "    <tr>\n",
       "      <th>3</th>\n",
       "      <td>4</td>\n",
       "      <td>2</td>\n",
       "      <td>2011-10-24</td>\n",
       "      <td>chat</td>\n",
       "      <td>regular</td>\n",
       "      <td>128</td>\n",
       "    </tr>\n",
       "    <tr>\n",
       "      <th>4</th>\n",
       "      <td>5</td>\n",
       "      <td>2</td>\n",
       "      <td>2011-12-29</td>\n",
       "      <td>chat</td>\n",
       "      <td>regular</td>\n",
       "      <td>66</td>\n",
       "    </tr>\n",
       "  </tbody>\n",
       "</table>\n",
       "</div>"
      ],
      "text/plain": [
       "   appt_id  user_id appointment_date     channel     type  time_diff\n",
       "0        1        1       2010-08-10        chat    first          0\n",
       "1        2        1       2010-10-29        chat  regular         80\n",
       "2        3        2       2011-06-18  presential    first        232\n",
       "3        4        2       2011-10-24        chat  regular        128\n",
       "4        5        2       2011-12-29        chat  regular         66"
      ]
     },
     "execution_count": 61,
     "metadata": {},
     "output_type": "execute_result"
    }
   ],
   "source": [
    "df = df_appts.copy()\n",
    "df['time_diff'] = 0 #initialize column to assign running time diff\n",
    "\n",
    "# sort dates\n",
    "df.sort_values(by = ['user_id', 'appointment_date'])\n",
    "\n",
    "# compute diff\n",
    "for i in range(df.shape[0] - 1):\n",
    "    df['time_diff'][i+1] = (df['appointment_date'][i+1] - df['appointment_date'][i]).days\n",
    "    \n",
    "# drop negatives\n",
    "df.loc[df.time_diff < 0, \"time_diff\"] = 0\n",
    "\n",
    "df.head()"
   ]
  },
  {
   "cell_type": "code",
   "execution_count": 62,
   "metadata": {},
   "outputs": [],
   "source": [
    "# compute number of appts\n",
    "df2 = df_appts.copy()\n",
    "df2 = df2.groupby('user_id', as_index=False).count()\n",
    "df2 = df2.drop(columns=['appt_id', 'appointment_date', 'channel'])\n",
    "df2 = df2.rename(columns={\"type\": \"num_appts\"})"
   ]
  },
  {
   "cell_type": "code",
   "execution_count": 63,
   "metadata": {},
   "outputs": [],
   "source": [
    "# sum total days\n",
    "df = df.groupby('user_id').sum()\n",
    "df = df.drop(columns=['appt_id'])\n",
    "df = df.reset_index()"
   ]
  },
  {
   "cell_type": "code",
   "execution_count": 65,
   "metadata": {},
   "outputs": [
    {
     "data": {
      "text/html": [
       "<div>\n",
       "<style scoped>\n",
       "    .dataframe tbody tr th:only-of-type {\n",
       "        vertical-align: middle;\n",
       "    }\n",
       "\n",
       "    .dataframe tbody tr th {\n",
       "        vertical-align: top;\n",
       "    }\n",
       "\n",
       "    .dataframe thead th {\n",
       "        text-align: right;\n",
       "    }\n",
       "</style>\n",
       "<table border=\"1\" class=\"dataframe\">\n",
       "  <thead>\n",
       "    <tr style=\"text-align: right;\">\n",
       "      <th></th>\n",
       "      <th>user_id</th>\n",
       "      <th>time_diff</th>\n",
       "      <th>num_appts</th>\n",
       "      <th>avg_time</th>\n",
       "      <th>num_days</th>\n",
       "    </tr>\n",
       "  </thead>\n",
       "  <tbody>\n",
       "    <tr>\n",
       "      <th>0</th>\n",
       "      <td>1</td>\n",
       "      <td>80</td>\n",
       "      <td>2</td>\n",
       "      <td>40.000</td>\n",
       "      <td>126</td>\n",
       "    </tr>\n",
       "    <tr>\n",
       "      <th>1</th>\n",
       "      <td>2</td>\n",
       "      <td>476</td>\n",
       "      <td>7</td>\n",
       "      <td>68.000</td>\n",
       "      <td>396</td>\n",
       "    </tr>\n",
       "    <tr>\n",
       "      <th>2</th>\n",
       "      <td>3</td>\n",
       "      <td>81</td>\n",
       "      <td>4</td>\n",
       "      <td>20.250</td>\n",
       "      <td>242</td>\n",
       "    </tr>\n",
       "    <tr>\n",
       "      <th>3</th>\n",
       "      <td>4</td>\n",
       "      <td>1447</td>\n",
       "      <td>8</td>\n",
       "      <td>180.875</td>\n",
       "      <td>621</td>\n",
       "    </tr>\n",
       "    <tr>\n",
       "      <th>4</th>\n",
       "      <td>5</td>\n",
       "      <td>0</td>\n",
       "      <td>1</td>\n",
       "      <td>0.000</td>\n",
       "      <td>106</td>\n",
       "    </tr>\n",
       "  </tbody>\n",
       "</table>\n",
       "</div>"
      ],
      "text/plain": [
       "   user_id  time_diff  num_appts  avg_time  num_days\n",
       "0        1         80          2    40.000       126\n",
       "1        2        476          7    68.000       396\n",
       "2        3         81          4    20.250       242\n",
       "3        4       1447          8   180.875       621\n",
       "4        5          0          1     0.000       106"
      ]
     },
     "execution_count": 65,
     "metadata": {},
     "output_type": "execute_result"
    }
   ],
   "source": [
    "df3 = df.copy()\n",
    "df3['num_appts'] = df2['num_appts']\n",
    "df3['avg_time'] = df3['time_diff']/df3['num_appts']\n",
    "df3['num_days'] = df_users['num_days']\n",
    "df3.head()"
   ]
  },
  {
   "cell_type": "code",
   "execution_count": 68,
   "metadata": {},
   "outputs": [
    {
     "data": {
      "text/plain": [
       "Text(0.5, 1.0, 'Distribution of average time between appointments')"
      ]
     },
     "execution_count": 68,
     "metadata": {},
     "output_type": "execute_result"
    },
    {
     "data": {
      "image/png": "[encoded data removed]",
      "text/plain": [
       "<Figure size 936x360 with 1 Axes>"
      ]
     },
     "metadata": {
      "needs_background": "light"
     },
     "output_type": "display_data"
    }
   ],
   "source": [
    "plt.figure(figsize=(13,5))\n",
    "ax = df3['avg_time'].plot.hist()\n",
    "\n",
    "# Set common labels\n",
    "ax.set_xlabel('Average time between appointments')\n",
    "ax.set_ylabel('Number of users')\n",
    "ax.set_title('Distribution of average time between appointments')"
   ]
  },
  {
   "cell_type": "code",
   "execution_count": 73,
   "metadata": {},
   "outputs": [
    {
     "data": {
      "text/plain": [
       "Text(0.5, 1.0, 'avg_time vs num_days')"
      ]
     },
     "execution_count": 73,
     "metadata": {},
     "output_type": "execute_result"
    },
    {
     "data": {
      "image/png": "[encoded data removed]",
      "text/plain": [
       "<Figure size 936x360 with 1 Axes>"
      ]
     },
     "metadata": {
      "needs_background": "light"
     },
     "output_type": "display_data"
    }
   ],
   "source": [
    "# plot avg_time vs num_days\n",
    "plt.figure(figsize=(13,5))\n",
    "ax = plt.plot(df3['avg_time'], df3['num_days'], 'ro')\n",
    "\n",
    "# Set common labels\n",
    "plt.xlabel('Average time between appointments')\n",
    "plt.ylabel('Number of users')\n",
    "plt.title('avg_time vs num_days')"
   ]
  },
  {
   "cell_type": "code",
   "execution_count": 74,
   "metadata": {},
   "outputs": [
    {
     "data": {
      "text/html": [
       "<table class=\"simpletable\">\n",
       "<caption>OLS Regression Results</caption>\n",
       "<tr>\n",
       "  <th>Dep. Variable:</th>        <td>num_days</td>     <th>  R-squared:         </th> <td>   0.401</td>\n",
       "</tr>\n",
       "<tr>\n",
       "  <th>Model:</th>                   <td>OLS</td>       <th>  Adj. R-squared:    </th> <td>   0.400</td>\n",
       "</tr>\n",
       "<tr>\n",
       "  <th>Method:</th>             <td>Least Squares</td>  <th>  F-statistic:       </th> <td>   308.5</td>\n",
       "</tr>\n",
       "<tr>\n",
       "  <th>Date:</th>             <td>Tue, 07 Apr 2020</td> <th>  Prob (F-statistic):</th> <td>3.05e-53</td>\n",
       "</tr>\n",
       "<tr>\n",
       "  <th>Time:</th>                 <td>05:36:37</td>     <th>  Log-Likelihood:    </th> <td> -3183.7</td>\n",
       "</tr>\n",
       "<tr>\n",
       "  <th>No. Observations:</th>      <td>   463</td>      <th>  AIC:               </th> <td>   6371.</td>\n",
       "</tr>\n",
       "<tr>\n",
       "  <th>Df Residuals:</th>          <td>   461</td>      <th>  BIC:               </th> <td>   6380.</td>\n",
       "</tr>\n",
       "<tr>\n",
       "  <th>Df Model:</th>              <td>     1</td>      <th>                     </th>     <td> </td>   \n",
       "</tr>\n",
       "<tr>\n",
       "  <th>Covariance Type:</th>      <td>nonrobust</td>    <th>                     </th>     <td> </td>   \n",
       "</tr>\n",
       "</table>\n",
       "<table class=\"simpletable\">\n",
       "<tr>\n",
       "      <td></td>         <th>coef</th>     <th>std err</th>      <th>t</th>      <th>P>|t|</th>  <th>[0.025</th>    <th>0.975]</th>  \n",
       "</tr>\n",
       "<tr>\n",
       "  <th>Intercept</th> <td>  241.4328</td> <td>   16.075</td> <td>   15.019</td> <td> 0.000</td> <td>  209.843</td> <td>  273.023</td>\n",
       "</tr>\n",
       "<tr>\n",
       "  <th>avg_time</th>  <td>    2.2470</td> <td>    0.128</td> <td>   17.563</td> <td> 0.000</td> <td>    1.996</td> <td>    2.498</td>\n",
       "</tr>\n",
       "</table>\n",
       "<table class=\"simpletable\">\n",
       "<tr>\n",
       "  <th>Omnibus:</th>       <td>231.539</td> <th>  Durbin-Watson:     </th> <td>   2.985</td>\n",
       "</tr>\n",
       "<tr>\n",
       "  <th>Prob(Omnibus):</th> <td> 0.000</td>  <th>  Jarque-Bera (JB):  </th> <td>2509.473</td>\n",
       "</tr>\n",
       "<tr>\n",
       "  <th>Skew:</th>          <td>-1.891</td>  <th>  Prob(JB):          </th> <td>    0.00</td>\n",
       "</tr>\n",
       "<tr>\n",
       "  <th>Kurtosis:</th>      <td>13.760</td>  <th>  Cond. No.          </th> <td>    185.</td>\n",
       "</tr>\n",
       "</table><br/><br/>Warnings:<br/>[1] Standard Errors assume that the covariance matrix of the errors is correctly specified."
      ],
      "text/plain": [
       "<class 'statsmodels.iolib.summary.Summary'>\n",
       "\"\"\"\n",
       "                            OLS Regression Results                            \n",
       "==============================================================================\n",
       "Dep. Variable:               num_days   R-squared:                       0.401\n",
       "Model:                            OLS   Adj. R-squared:                  0.400\n",
       "Method:                 Least Squares   F-statistic:                     308.5\n",
       "Date:                Tue, 07 Apr 2020   Prob (F-statistic):           3.05e-53\n",
       "Time:                        05:36:37   Log-Likelihood:                -3183.7\n",
       "No. Observations:                 463   AIC:                             6371.\n",
       "Df Residuals:                     461   BIC:                             6380.\n",
       "Df Model:                           1                                         \n",
       "Covariance Type:            nonrobust                                         \n",
       "==============================================================================\n",
       "                 coef    std err          t      P>|t|      [0.025      0.975]\n",
       "------------------------------------------------------------------------------\n",
       "Intercept    241.4328     16.075     15.019      0.000     209.843     273.023\n",
       "avg_time       2.2470      0.128     17.563      0.000       1.996       2.498\n",
       "==============================================================================\n",
       "Omnibus:                      231.539   Durbin-Watson:                   2.985\n",
       "Prob(Omnibus):                  0.000   Jarque-Bera (JB):             2509.473\n",
       "Skew:                          -1.891   Prob(JB):                         0.00\n",
       "Kurtosis:                      13.760   Cond. No.                         185.\n",
       "==============================================================================\n",
       "\n",
       "Warnings:\n",
       "[1] Standard Errors assume that the covariance matrix of the errors is correctly specified.\n",
       "\"\"\""
      ]
     },
     "execution_count": 74,
     "metadata": {},
     "output_type": "execute_result"
    }
   ],
   "source": [
    "model = ols('num_days ~ avg_time', data=df3)\n",
    "fitted_model = model.fit()\n",
    "fitted_model.summary()"
   ]
  },
  {
   "cell_type": "markdown",
   "metadata": {},
   "source": [
    "# Deep dive #1: Group by user permanence "
   ]
  },
  {
   "cell_type": "code",
   "execution_count": 75,
   "metadata": {},
   "outputs": [
    {
     "data": {
      "text/html": [
       "<div>\n",
       "<style scoped>\n",
       "    .dataframe tbody tr th:only-of-type {\n",
       "        vertical-align: middle;\n",
       "    }\n",
       "\n",
       "    .dataframe tbody tr th {\n",
       "        vertical-align: top;\n",
       "    }\n",
       "\n",
       "    .dataframe thead th {\n",
       "        text-align: right;\n",
       "    }\n",
       "</style>\n",
       "<table border=\"1\" class=\"dataframe\">\n",
       "  <thead>\n",
       "    <tr style=\"text-align: right;\">\n",
       "      <th></th>\n",
       "      <th>user_id</th>\n",
       "      <th>time_diff</th>\n",
       "      <th>num_appts</th>\n",
       "      <th>avg_time</th>\n",
       "      <th>num_days</th>\n",
       "    </tr>\n",
       "  </thead>\n",
       "  <tbody>\n",
       "    <tr>\n",
       "      <th>3</th>\n",
       "      <td>4</td>\n",
       "      <td>1447</td>\n",
       "      <td>8</td>\n",
       "      <td>180.875000</td>\n",
       "      <td>621</td>\n",
       "    </tr>\n",
       "    <tr>\n",
       "      <th>5</th>\n",
       "      <td>6</td>\n",
       "      <td>499</td>\n",
       "      <td>6</td>\n",
       "      <td>83.166667</td>\n",
       "      <td>493</td>\n",
       "    </tr>\n",
       "    <tr>\n",
       "      <th>7</th>\n",
       "      <td>8</td>\n",
       "      <td>1583</td>\n",
       "      <td>9</td>\n",
       "      <td>175.888889</td>\n",
       "      <td>907</td>\n",
       "    </tr>\n",
       "    <tr>\n",
       "      <th>9</th>\n",
       "      <td>10</td>\n",
       "      <td>929</td>\n",
       "      <td>9</td>\n",
       "      <td>103.222222</td>\n",
       "      <td>618</td>\n",
       "    </tr>\n",
       "    <tr>\n",
       "      <th>11</th>\n",
       "      <td>12</td>\n",
       "      <td>1545</td>\n",
       "      <td>11</td>\n",
       "      <td>140.454545</td>\n",
       "      <td>762</td>\n",
       "    </tr>\n",
       "  </tbody>\n",
       "</table>\n",
       "</div>"
      ],
      "text/plain": [
       "    user_id  time_diff  num_appts    avg_time  num_days\n",
       "3         4       1447          8  180.875000       621\n",
       "5         6        499          6   83.166667       493\n",
       "7         8       1583          9  175.888889       907\n",
       "9        10        929          9  103.222222       618\n",
       "11       12       1545         11  140.454545       762"
      ]
     },
     "execution_count": 75,
     "metadata": {},
     "output_type": "execute_result"
    }
   ],
   "source": [
    "df = df3.copy()\n",
    "mean = df['num_days'].mean()\n",
    "top = df[df['num_days'] >= mean] # inclusive\n",
    "bottom = df[df['num_days'] < mean]\n",
    "top.head()"
   ]
  },
  {
   "cell_type": "markdown",
   "metadata": {},
   "source": [
    "## 50% Top users"
   ]
  },
  {
   "cell_type": "code",
   "execution_count": 76,
   "metadata": {},
   "outputs": [
    {
     "data": {
      "text/plain": [
       "Text(0.5, 1.0, 'Distribution over top 50% users')"
      ]
     },
     "execution_count": 76,
     "metadata": {},
     "output_type": "execute_result"
    },
    {
     "data": {
      "image/png": "[encoded data removed]",
      "text/plain": [
       "<Figure size 432x288 with 1 Axes>"
      ]
     },
     "metadata": {
      "needs_background": "light"
     },
     "output_type": "display_data"
    }
   ],
   "source": [
    "ax = top['num_days'].plot.hist()\n",
    "\n",
    "# Set common labels\n",
    "ax.set_xlabel('Total number of days as a client in the platform')\n",
    "ax.set_ylabel('Number of users')\n",
    "ax.set_title('Distribution over top 50% users')"
   ]
  },
  {
   "cell_type": "code",
   "execution_count": 77,
   "metadata": {},
   "outputs": [
    {
     "data": {
      "text/plain": [
       "Text(0.5, 1.0, 'avg_time vs num_days')"
      ]
     },
     "execution_count": 77,
     "metadata": {},
     "output_type": "execute_result"
    },
    {
     "data": {
      "image/png": "[encoded data removed]",
      "text/plain": [
       "<Figure size 936x360 with 1 Axes>"
      ]
     },
     "metadata": {
      "needs_background": "light"
     },
     "output_type": "display_data"
    }
   ],
   "source": [
    "plt.figure(figsize=(13,5))\n",
    "ax = plt.plot(top['avg_time'], top['num_days'], 'ro')\n",
    "\n",
    "# Set common labels\n",
    "plt.xlabel('Average time between appointments for top 50% users')\n",
    "plt.ylabel('Number of users')\n",
    "plt.title('avg_time vs num_days')"
   ]
  },
  {
   "cell_type": "code",
   "execution_count": 78,
   "metadata": {},
   "outputs": [
    {
     "data": {
      "text/html": [
       "<table class=\"simpletable\">\n",
       "<caption>OLS Regression Results</caption>\n",
       "<tr>\n",
       "  <th>Dep. Variable:</th>        <td>num_days</td>     <th>  R-squared:         </th> <td>   0.386</td>\n",
       "</tr>\n",
       "<tr>\n",
       "  <th>Model:</th>                   <td>OLS</td>       <th>  Adj. R-squared:    </th> <td>   0.383</td>\n",
       "</tr>\n",
       "<tr>\n",
       "  <th>Method:</th>             <td>Least Squares</td>  <th>  F-statistic:       </th> <td>   136.4</td>\n",
       "</tr>\n",
       "<tr>\n",
       "  <th>Date:</th>             <td>Tue, 07 Apr 2020</td> <th>  Prob (F-statistic):</th> <td>9.07e-25</td>\n",
       "</tr>\n",
       "<tr>\n",
       "  <th>Time:</th>                 <td>05:39:29</td>     <th>  Log-Likelihood:    </th> <td> -1367.4</td>\n",
       "</tr>\n",
       "<tr>\n",
       "  <th>No. Observations:</th>      <td>   219</td>      <th>  AIC:               </th> <td>   2739.</td>\n",
       "</tr>\n",
       "<tr>\n",
       "  <th>Df Residuals:</th>          <td>   217</td>      <th>  BIC:               </th> <td>   2745.</td>\n",
       "</tr>\n",
       "<tr>\n",
       "  <th>Df Model:</th>              <td>     1</td>      <th>                     </th>     <td> </td>   \n",
       "</tr>\n",
       "<tr>\n",
       "  <th>Covariance Type:</th>      <td>nonrobust</td>    <th>                     </th>     <td> </td>   \n",
       "</tr>\n",
       "</table>\n",
       "<table class=\"simpletable\">\n",
       "<tr>\n",
       "      <td></td>         <th>coef</th>     <th>std err</th>      <th>t</th>      <th>P>|t|</th>  <th>[0.025</th>    <th>0.975]</th>  \n",
       "</tr>\n",
       "<tr>\n",
       "  <th>Intercept</th> <td>  449.4081</td> <td>   26.065</td> <td>   17.242</td> <td> 0.000</td> <td>  398.035</td> <td>  500.781</td>\n",
       "</tr>\n",
       "<tr>\n",
       "  <th>avg_time</th>  <td>    1.9896</td> <td>    0.170</td> <td>   11.678</td> <td> 0.000</td> <td>    1.654</td> <td>    2.325</td>\n",
       "</tr>\n",
       "</table>\n",
       "<table class=\"simpletable\">\n",
       "<tr>\n",
       "  <th>Omnibus:</th>       <td> 1.601</td> <th>  Durbin-Watson:     </th> <td>   2.164</td>\n",
       "</tr>\n",
       "<tr>\n",
       "  <th>Prob(Omnibus):</th> <td> 0.449</td> <th>  Jarque-Bera (JB):  </th> <td>   1.564</td>\n",
       "</tr>\n",
       "<tr>\n",
       "  <th>Skew:</th>          <td> 0.123</td> <th>  Prob(JB):          </th> <td>   0.457</td>\n",
       "</tr>\n",
       "<tr>\n",
       "  <th>Kurtosis:</th>      <td> 2.667</td> <th>  Cond. No.          </th> <td>    472.</td>\n",
       "</tr>\n",
       "</table><br/><br/>Warnings:<br/>[1] Standard Errors assume that the covariance matrix of the errors is correctly specified."
      ],
      "text/plain": [
       "<class 'statsmodels.iolib.summary.Summary'>\n",
       "\"\"\"\n",
       "                            OLS Regression Results                            \n",
       "==============================================================================\n",
       "Dep. Variable:               num_days   R-squared:                       0.386\n",
       "Model:                            OLS   Adj. R-squared:                  0.383\n",
       "Method:                 Least Squares   F-statistic:                     136.4\n",
       "Date:                Tue, 07 Apr 2020   Prob (F-statistic):           9.07e-25\n",
       "Time:                        05:39:29   Log-Likelihood:                -1367.4\n",
       "No. Observations:                 219   AIC:                             2739.\n",
       "Df Residuals:                     217   BIC:                             2745.\n",
       "Df Model:                           1                                         \n",
       "Covariance Type:            nonrobust                                         \n",
       "==============================================================================\n",
       "                 coef    std err          t      P>|t|      [0.025      0.975]\n",
       "------------------------------------------------------------------------------\n",
       "Intercept    449.4081     26.065     17.242      0.000     398.035     500.781\n",
       "avg_time       1.9896      0.170     11.678      0.000       1.654       2.325\n",
       "==============================================================================\n",
       "Omnibus:                        1.601   Durbin-Watson:                   2.164\n",
       "Prob(Omnibus):                  0.449   Jarque-Bera (JB):                1.564\n",
       "Skew:                           0.123   Prob(JB):                        0.457\n",
       "Kurtosis:                       2.667   Cond. No.                         472.\n",
       "==============================================================================\n",
       "\n",
       "Warnings:\n",
       "[1] Standard Errors assume that the covariance matrix of the errors is correctly specified.\n",
       "\"\"\""
      ]
     },
     "execution_count": 78,
     "metadata": {},
     "output_type": "execute_result"
    }
   ],
   "source": [
    "model = ols('num_days ~ avg_time', data=top)\n",
    "fitted_model = model.fit()\n",
    "fitted_model.summary()"
   ]
  },
  {
   "cell_type": "markdown",
   "metadata": {},
   "source": [
    "## 50% Bottom users"
   ]
  },
  {
   "cell_type": "code",
   "execution_count": 79,
   "metadata": {},
   "outputs": [
    {
     "data": {
      "text/plain": [
       "Text(0.5, 1.0, 'Distribution over bottom 50% users')"
      ]
     },
     "execution_count": 79,
     "metadata": {},
     "output_type": "execute_result"
    },
    {
     "data": {
      "image/png": "[encoded data removed]",
      "text/plain": [
       "<Figure size 432x288 with 1 Axes>"
      ]
     },
     "metadata": {
      "needs_background": "light"
     },
     "output_type": "display_data"
    }
   ],
   "source": [
    "ax = bottom['num_days'].plot.hist()\n",
    "\n",
    "# Set common labels\n",
    "ax.set_xlabel('Total number of days as a client in the platform')\n",
    "ax.set_ylabel('Number of users')\n",
    "ax.set_title('Distribution over bottom 50% users')"
   ]
  },
  {
   "cell_type": "code",
   "execution_count": 80,
   "metadata": {},
   "outputs": [
    {
     "data": {
      "text/plain": [
       "Text(0.5, 1.0, 'avg_time vs num_days')"
      ]
     },
     "execution_count": 80,
     "metadata": {},
     "output_type": "execute_result"
    },
    {
     "data": {
      "image/png": "[encoded data removed]",
      "text/plain": [
       "<Figure size 936x360 with 1 Axes>"
      ]
     },
     "metadata": {
      "needs_background": "light"
     },
     "output_type": "display_data"
    }
   ],
   "source": [
    "plt.figure(figsize=(13,5))\n",
    "ax = plt.plot(bottom['avg_time'], bottom['num_days'], 'ro')\n",
    "\n",
    "# Set common labels\n",
    "plt.xlabel('Average time between appointments for bottom 50% users')\n",
    "plt.ylabel('Number of users')\n",
    "plt.title('avg_time vs num_days')"
   ]
  },
  {
   "cell_type": "code",
   "execution_count": 81,
   "metadata": {},
   "outputs": [
    {
     "data": {
      "text/html": [
       "<table class=\"simpletable\">\n",
       "<caption>OLS Regression Results</caption>\n",
       "<tr>\n",
       "  <th>Dep. Variable:</th>        <td>num_days</td>     <th>  R-squared:         </th> <td>   0.011</td>\n",
       "</tr>\n",
       "<tr>\n",
       "  <th>Model:</th>                   <td>OLS</td>       <th>  Adj. R-squared:    </th> <td>   0.007</td>\n",
       "</tr>\n",
       "<tr>\n",
       "  <th>Method:</th>             <td>Least Squares</td>  <th>  F-statistic:       </th> <td>   2.643</td>\n",
       "</tr>\n",
       "<tr>\n",
       "  <th>Date:</th>             <td>Tue, 07 Apr 2020</td> <th>  Prob (F-statistic):</th>  <td> 0.105</td> \n",
       "</tr>\n",
       "<tr>\n",
       "  <th>Time:</th>                 <td>05:40:40</td>     <th>  Log-Likelihood:    </th> <td> -1461.8</td>\n",
       "</tr>\n",
       "<tr>\n",
       "  <th>No. Observations:</th>      <td>   244</td>      <th>  AIC:               </th> <td>   2928.</td>\n",
       "</tr>\n",
       "<tr>\n",
       "  <th>Df Residuals:</th>          <td>   242</td>      <th>  BIC:               </th> <td>   2935.</td>\n",
       "</tr>\n",
       "<tr>\n",
       "  <th>Df Model:</th>              <td>     1</td>      <th>                     </th>     <td> </td>   \n",
       "</tr>\n",
       "<tr>\n",
       "  <th>Covariance Type:</th>      <td>nonrobust</td>    <th>                     </th>     <td> </td>   \n",
       "</tr>\n",
       "</table>\n",
       "<table class=\"simpletable\">\n",
       "<tr>\n",
       "      <td></td>         <th>coef</th>     <th>std err</th>      <th>t</th>      <th>P>|t|</th>  <th>[0.025</th>    <th>0.975]</th>  \n",
       "</tr>\n",
       "<tr>\n",
       "  <th>Intercept</th> <td>  184.0068</td> <td>    7.075</td> <td>   26.009</td> <td> 0.000</td> <td>  170.071</td> <td>  197.943</td>\n",
       "</tr>\n",
       "<tr>\n",
       "  <th>avg_time</th>  <td>    0.1216</td> <td>    0.075</td> <td>    1.626</td> <td> 0.105</td> <td>   -0.026</td> <td>    0.269</td>\n",
       "</tr>\n",
       "</table>\n",
       "<table class=\"simpletable\">\n",
       "<tr>\n",
       "  <th>Omnibus:</th>       <td>10.782</td> <th>  Durbin-Watson:     </th> <td>   2.023</td>\n",
       "</tr>\n",
       "<tr>\n",
       "  <th>Prob(Omnibus):</th> <td> 0.005</td> <th>  Jarque-Bera (JB):  </th> <td>   6.399</td>\n",
       "</tr>\n",
       "<tr>\n",
       "  <th>Skew:</th>          <td> 0.226</td> <th>  Prob(JB):          </th> <td>  0.0408</td>\n",
       "</tr>\n",
       "<tr>\n",
       "  <th>Kurtosis:</th>      <td> 2.348</td> <th>  Cond. No.          </th> <td>    108.</td>\n",
       "</tr>\n",
       "</table><br/><br/>Warnings:<br/>[1] Standard Errors assume that the covariance matrix of the errors is correctly specified."
      ],
      "text/plain": [
       "<class 'statsmodels.iolib.summary.Summary'>\n",
       "\"\"\"\n",
       "                            OLS Regression Results                            \n",
       "==============================================================================\n",
       "Dep. Variable:               num_days   R-squared:                       0.011\n",
       "Model:                            OLS   Adj. R-squared:                  0.007\n",
       "Method:                 Least Squares   F-statistic:                     2.643\n",
       "Date:                Tue, 07 Apr 2020   Prob (F-statistic):              0.105\n",
       "Time:                        05:40:40   Log-Likelihood:                -1461.8\n",
       "No. Observations:                 244   AIC:                             2928.\n",
       "Df Residuals:                     242   BIC:                             2935.\n",
       "Df Model:                           1                                         \n",
       "Covariance Type:            nonrobust                                         \n",
       "==============================================================================\n",
       "                 coef    std err          t      P>|t|      [0.025      0.975]\n",
       "------------------------------------------------------------------------------\n",
       "Intercept    184.0068      7.075     26.009      0.000     170.071     197.943\n",
       "avg_time       0.1216      0.075      1.626      0.105      -0.026       0.269\n",
       "==============================================================================\n",
       "Omnibus:                       10.782   Durbin-Watson:                   2.023\n",
       "Prob(Omnibus):                  0.005   Jarque-Bera (JB):                6.399\n",
       "Skew:                           0.226   Prob(JB):                       0.0408\n",
       "Kurtosis:                       2.348   Cond. No.                         108.\n",
       "==============================================================================\n",
       "\n",
       "Warnings:\n",
       "[1] Standard Errors assume that the covariance matrix of the errors is correctly specified.\n",
       "\"\"\""
      ]
     },
     "execution_count": 81,
     "metadata": {},
     "output_type": "execute_result"
    }
   ],
   "source": [
    "model = ols('num_days ~ avg_time', data=bottom)\n",
    "fitted_model = model.fit()\n",
    "fitted_model.summary()"
   ]
  },
  {
   "cell_type": "markdown",
   "metadata": {},
   "source": [
    "# Deep dive #2: Percentage of appointment type"
   ]
  },
  {
   "cell_type": "code",
   "execution_count": 82,
   "metadata": {},
   "outputs": [
    {
     "data": {
      "text/html": [
       "<div>\n",
       "<style scoped>\n",
       "    .dataframe tbody tr th:only-of-type {\n",
       "        vertical-align: middle;\n",
       "    }\n",
       "\n",
       "    .dataframe tbody tr th {\n",
       "        vertical-align: top;\n",
       "    }\n",
       "\n",
       "    .dataframe thead th {\n",
       "        text-align: right;\n",
       "    }\n",
       "</style>\n",
       "<table border=\"1\" class=\"dataframe\">\n",
       "  <thead>\n",
       "    <tr style=\"text-align: right;\">\n",
       "      <th></th>\n",
       "      <th>user_id</th>\n",
       "      <th>num_appts</th>\n",
       "      <th>num_chat</th>\n",
       "      <th>p_chat</th>\n",
       "      <th>p_presential</th>\n",
       "      <th>num_days</th>\n",
       "    </tr>\n",
       "  </thead>\n",
       "  <tbody>\n",
       "    <tr>\n",
       "      <th>0</th>\n",
       "      <td>1</td>\n",
       "      <td>2</td>\n",
       "      <td>2</td>\n",
       "      <td>1.000000</td>\n",
       "      <td>0.000000</td>\n",
       "      <td>126</td>\n",
       "    </tr>\n",
       "    <tr>\n",
       "      <th>1</th>\n",
       "      <td>2</td>\n",
       "      <td>7</td>\n",
       "      <td>3</td>\n",
       "      <td>0.428571</td>\n",
       "      <td>0.571429</td>\n",
       "      <td>396</td>\n",
       "    </tr>\n",
       "    <tr>\n",
       "      <th>2</th>\n",
       "      <td>3</td>\n",
       "      <td>4</td>\n",
       "      <td>4</td>\n",
       "      <td>1.000000</td>\n",
       "      <td>0.000000</td>\n",
       "      <td>242</td>\n",
       "    </tr>\n",
       "    <tr>\n",
       "      <th>3</th>\n",
       "      <td>4</td>\n",
       "      <td>8</td>\n",
       "      <td>3</td>\n",
       "      <td>0.375000</td>\n",
       "      <td>0.625000</td>\n",
       "      <td>621</td>\n",
       "    </tr>\n",
       "    <tr>\n",
       "      <th>4</th>\n",
       "      <td>5</td>\n",
       "      <td>1</td>\n",
       "      <td>1</td>\n",
       "      <td>1.000000</td>\n",
       "      <td>0.000000</td>\n",
       "      <td>106</td>\n",
       "    </tr>\n",
       "  </tbody>\n",
       "</table>\n",
       "</div>"
      ],
      "text/plain": [
       "   user_id  num_appts  num_chat    p_chat  p_presential  num_days\n",
       "0        1          2         2  1.000000      0.000000       126\n",
       "1        2          7         3  0.428571      0.571429       396\n",
       "2        3          4         4  1.000000      0.000000       242\n",
       "3        4          8         3  0.375000      0.625000       621\n",
       "4        5          1         1  1.000000      0.000000       106"
      ]
     },
     "execution_count": 82,
     "metadata": {},
     "output_type": "execute_result"
    }
   ],
   "source": [
    "# compute number of appts\n",
    "df = df_appts.copy()\n",
    "df = df.groupby('user_id', as_index=False).count()\n",
    "df = df.drop(columns=['appt_id', 'appointment_date', 'channel'])\n",
    "df = df.rename(columns={\"type\": \"num_appts\"})\n",
    "\n",
    "# compute number of chat appointments\n",
    "df2 = df_appts.copy()\n",
    "df2['num_chat'] = 0\n",
    "df2.loc[df2.channel == 'chat', 'num_chat'] = 1\n",
    "df2 = df2.groupby('user_id', as_index=False)['num_chat'].sum()\n",
    "\n",
    "df['num_chat'] = df2['num_chat']\n",
    "df['p_chat'] = df['num_chat']/df['num_appts']\n",
    "df['p_presential'] = 1.0 - df['p_chat']\n",
    "df['num_days'] = df3['num_days']\n",
    "df.head()"
   ]
  },
  {
   "cell_type": "markdown",
   "metadata": {},
   "source": [
    "## Chat appointments"
   ]
  },
  {
   "cell_type": "code",
   "execution_count": 85,
   "metadata": {},
   "outputs": [
    {
     "data": {
      "text/plain": [
       "Text(0.5, 1.0, 'p_chat vs num_days')"
      ]
     },
     "execution_count": 85,
     "metadata": {},
     "output_type": "execute_result"
    },
    {
     "data": {
      "image/png": "[encoded data removed]",
      "text/plain": [
       "<Figure size 432x288 with 1 Axes>"
      ]
     },
     "metadata": {
      "needs_background": "light"
     },
     "output_type": "display_data"
    }
   ],
   "source": [
    "ax = plt.plot(df['p_chat'], df['num_days'], 'ro')\n",
    "\n",
    "# Set common labels\n",
    "plt.xlabel('Percentual of chat appointments')\n",
    "plt.ylabel('Number of users')\n",
    "plt.title('p_chat vs num_days')"
   ]
  },
  {
   "cell_type": "code",
   "execution_count": 86,
   "metadata": {},
   "outputs": [
    {
     "data": {
      "text/html": [
       "<table class=\"simpletable\">\n",
       "<caption>OLS Regression Results</caption>\n",
       "<tr>\n",
       "  <th>Dep. Variable:</th>        <td>num_days</td>     <th>  R-squared:         </th> <td>   0.000</td>\n",
       "</tr>\n",
       "<tr>\n",
       "  <th>Model:</th>                   <td>OLS</td>       <th>  Adj. R-squared:    </th> <td>  -0.002</td>\n",
       "</tr>\n",
       "<tr>\n",
       "  <th>Method:</th>             <td>Least Squares</td>  <th>  F-statistic:       </th> <td> 0.04507</td>\n",
       "</tr>\n",
       "<tr>\n",
       "  <th>Date:</th>             <td>Tue, 07 Apr 2020</td> <th>  Prob (F-statistic):</th>  <td> 0.832</td> \n",
       "</tr>\n",
       "<tr>\n",
       "  <th>Time:</th>                 <td>05:43:05</td>     <th>  Log-Likelihood:    </th> <td> -3302.3</td>\n",
       "</tr>\n",
       "<tr>\n",
       "  <th>No. Observations:</th>      <td>   463</td>      <th>  AIC:               </th> <td>   6609.</td>\n",
       "</tr>\n",
       "<tr>\n",
       "  <th>Df Residuals:</th>          <td>   461</td>      <th>  BIC:               </th> <td>   6617.</td>\n",
       "</tr>\n",
       "<tr>\n",
       "  <th>Df Model:</th>              <td>     1</td>      <th>                     </th>     <td> </td>   \n",
       "</tr>\n",
       "<tr>\n",
       "  <th>Covariance Type:</th>      <td>nonrobust</td>    <th>                     </th>     <td> </td>   \n",
       "</tr>\n",
       "</table>\n",
       "<table class=\"simpletable\">\n",
       "<tr>\n",
       "      <td></td>         <th>coef</th>     <th>std err</th>      <th>t</th>      <th>P>|t|</th>  <th>[0.025</th>    <th>0.975]</th>  \n",
       "</tr>\n",
       "<tr>\n",
       "  <th>Intercept</th> <td>  457.3103</td> <td>   43.268</td> <td>   10.569</td> <td> 0.000</td> <td>  372.284</td> <td>  542.337</td>\n",
       "</tr>\n",
       "<tr>\n",
       "  <th>p_chat</th>    <td>  -11.4961</td> <td>   54.149</td> <td>   -0.212</td> <td> 0.832</td> <td> -117.906</td> <td>   94.914</td>\n",
       "</tr>\n",
       "</table>\n",
       "<table class=\"simpletable\">\n",
       "<tr>\n",
       "  <th>Omnibus:</th>       <td>251.839</td> <th>  Durbin-Watson:     </th> <td>   3.567</td>\n",
       "</tr>\n",
       "<tr>\n",
       "  <th>Prob(Omnibus):</th> <td> 0.000</td>  <th>  Jarque-Bera (JB):  </th> <td>  35.790</td>\n",
       "</tr>\n",
       "<tr>\n",
       "  <th>Skew:</th>          <td> 0.344</td>  <th>  Prob(JB):          </th> <td>1.69e-08</td>\n",
       "</tr>\n",
       "<tr>\n",
       "  <th>Kurtosis:</th>      <td> 1.825</td>  <th>  Cond. No.          </th> <td>    6.13</td>\n",
       "</tr>\n",
       "</table><br/><br/>Warnings:<br/>[1] Standard Errors assume that the covariance matrix of the errors is correctly specified."
      ],
      "text/plain": [
       "<class 'statsmodels.iolib.summary.Summary'>\n",
       "\"\"\"\n",
       "                            OLS Regression Results                            \n",
       "==============================================================================\n",
       "Dep. Variable:               num_days   R-squared:                       0.000\n",
       "Model:                            OLS   Adj. R-squared:                 -0.002\n",
       "Method:                 Least Squares   F-statistic:                   0.04507\n",
       "Date:                Tue, 07 Apr 2020   Prob (F-statistic):              0.832\n",
       "Time:                        05:43:05   Log-Likelihood:                -3302.3\n",
       "No. Observations:                 463   AIC:                             6609.\n",
       "Df Residuals:                     461   BIC:                             6617.\n",
       "Df Model:                           1                                         \n",
       "Covariance Type:            nonrobust                                         \n",
       "==============================================================================\n",
       "                 coef    std err          t      P>|t|      [0.025      0.975]\n",
       "------------------------------------------------------------------------------\n",
       "Intercept    457.3103     43.268     10.569      0.000     372.284     542.337\n",
       "p_chat       -11.4961     54.149     -0.212      0.832    -117.906      94.914\n",
       "==============================================================================\n",
       "Omnibus:                      251.839   Durbin-Watson:                   3.567\n",
       "Prob(Omnibus):                  0.000   Jarque-Bera (JB):               35.790\n",
       "Skew:                           0.344   Prob(JB):                     1.69e-08\n",
       "Kurtosis:                       1.825   Cond. No.                         6.13\n",
       "==============================================================================\n",
       "\n",
       "Warnings:\n",
       "[1] Standard Errors assume that the covariance matrix of the errors is correctly specified.\n",
       "\"\"\""
      ]
     },
     "execution_count": 86,
     "metadata": {},
     "output_type": "execute_result"
    }
   ],
   "source": [
    "model = ols('num_days ~ p_chat', data=df)\n",
    "fitted_model = model.fit()\n",
    "fitted_model.summary()"
   ]
  },
  {
   "cell_type": "markdown",
   "metadata": {},
   "source": [
    "## Presential appointments"
   ]
  },
  {
   "cell_type": "code",
   "execution_count": 87,
   "metadata": {},
   "outputs": [
    {
     "data": {
      "text/plain": [
       "Text(0.5, 1.0, 'p_presential vs num_days')"
      ]
     },
     "execution_count": 87,
     "metadata": {},
     "output_type": "execute_result"
    },
    {
     "data": {
      "image/png": "[encoded data removed]",
      "text/plain": [
       "<Figure size 432x288 with 1 Axes>"
      ]
     },
     "metadata": {
      "needs_background": "light"
     },
     "output_type": "display_data"
    }
   ],
   "source": [
    "ax = plt.plot(df['p_presential'], df['num_days'], 'ro')\n",
    "\n",
    "# Set common labels\n",
    "plt.xlabel('Percentual of presential appointments')\n",
    "plt.ylabel('Number of users')\n",
    "plt.title('p_presential vs num_days')"
   ]
  },
  {
   "cell_type": "code",
   "execution_count": 88,
   "metadata": {},
   "outputs": [
    {
     "data": {
      "text/html": [
       "<table class=\"simpletable\">\n",
       "<caption>OLS Regression Results</caption>\n",
       "<tr>\n",
       "  <th>Dep. Variable:</th>        <td>num_days</td>     <th>  R-squared:         </th> <td>   0.000</td>\n",
       "</tr>\n",
       "<tr>\n",
       "  <th>Model:</th>                   <td>OLS</td>       <th>  Adj. R-squared:    </th> <td>  -0.002</td>\n",
       "</tr>\n",
       "<tr>\n",
       "  <th>Method:</th>             <td>Least Squares</td>  <th>  F-statistic:       </th> <td> 0.04507</td>\n",
       "</tr>\n",
       "<tr>\n",
       "  <th>Date:</th>             <td>Tue, 07 Apr 2020</td> <th>  Prob (F-statistic):</th>  <td> 0.832</td> \n",
       "</tr>\n",
       "<tr>\n",
       "  <th>Time:</th>                 <td>05:43:43</td>     <th>  Log-Likelihood:    </th> <td> -3302.3</td>\n",
       "</tr>\n",
       "<tr>\n",
       "  <th>No. Observations:</th>      <td>   463</td>      <th>  AIC:               </th> <td>   6609.</td>\n",
       "</tr>\n",
       "<tr>\n",
       "  <th>Df Residuals:</th>          <td>   461</td>      <th>  BIC:               </th> <td>   6617.</td>\n",
       "</tr>\n",
       "<tr>\n",
       "  <th>Df Model:</th>              <td>     1</td>      <th>                     </th>     <td> </td>   \n",
       "</tr>\n",
       "<tr>\n",
       "  <th>Covariance Type:</th>      <td>nonrobust</td>    <th>                     </th>     <td> </td>   \n",
       "</tr>\n",
       "</table>\n",
       "<table class=\"simpletable\">\n",
       "<tr>\n",
       "        <td></td>          <th>coef</th>     <th>std err</th>      <th>t</th>      <th>P>|t|</th>  <th>[0.025</th>    <th>0.975]</th>  \n",
       "</tr>\n",
       "<tr>\n",
       "  <th>Intercept</th>    <td>  445.8142</td> <td>   19.351</td> <td>   23.038</td> <td> 0.000</td> <td>  407.787</td> <td>  483.842</td>\n",
       "</tr>\n",
       "<tr>\n",
       "  <th>p_presential</th> <td>   11.4961</td> <td>   54.149</td> <td>    0.212</td> <td> 0.832</td> <td>  -94.914</td> <td>  117.906</td>\n",
       "</tr>\n",
       "</table>\n",
       "<table class=\"simpletable\">\n",
       "<tr>\n",
       "  <th>Omnibus:</th>       <td>251.839</td> <th>  Durbin-Watson:     </th> <td>   3.567</td>\n",
       "</tr>\n",
       "<tr>\n",
       "  <th>Prob(Omnibus):</th> <td> 0.000</td>  <th>  Jarque-Bera (JB):  </th> <td>  35.790</td>\n",
       "</tr>\n",
       "<tr>\n",
       "  <th>Skew:</th>          <td> 0.344</td>  <th>  Prob(JB):          </th> <td>1.69e-08</td>\n",
       "</tr>\n",
       "<tr>\n",
       "  <th>Kurtosis:</th>      <td> 1.825</td>  <th>  Cond. No.          </th> <td>    4.08</td>\n",
       "</tr>\n",
       "</table><br/><br/>Warnings:<br/>[1] Standard Errors assume that the covariance matrix of the errors is correctly specified."
      ],
      "text/plain": [
       "<class 'statsmodels.iolib.summary.Summary'>\n",
       "\"\"\"\n",
       "                            OLS Regression Results                            \n",
       "==============================================================================\n",
       "Dep. Variable:               num_days   R-squared:                       0.000\n",
       "Model:                            OLS   Adj. R-squared:                 -0.002\n",
       "Method:                 Least Squares   F-statistic:                   0.04507\n",
       "Date:                Tue, 07 Apr 2020   Prob (F-statistic):              0.832\n",
       "Time:                        05:43:43   Log-Likelihood:                -3302.3\n",
       "No. Observations:                 463   AIC:                             6609.\n",
       "Df Residuals:                     461   BIC:                             6617.\n",
       "Df Model:                           1                                         \n",
       "Covariance Type:            nonrobust                                         \n",
       "================================================================================\n",
       "                   coef    std err          t      P>|t|      [0.025      0.975]\n",
       "--------------------------------------------------------------------------------\n",
       "Intercept      445.8142     19.351     23.038      0.000     407.787     483.842\n",
       "p_presential    11.4961     54.149      0.212      0.832     -94.914     117.906\n",
       "==============================================================================\n",
       "Omnibus:                      251.839   Durbin-Watson:                   3.567\n",
       "Prob(Omnibus):                  0.000   Jarque-Bera (JB):               35.790\n",
       "Skew:                           0.344   Prob(JB):                     1.69e-08\n",
       "Kurtosis:                       1.825   Cond. No.                         4.08\n",
       "==============================================================================\n",
       "\n",
       "Warnings:\n",
       "[1] Standard Errors assume that the covariance matrix of the errors is correctly specified.\n",
       "\"\"\""
      ]
     },
     "execution_count": 88,
     "metadata": {},
     "output_type": "execute_result"
    }
   ],
   "source": [
    "model = ols('num_days ~ p_presential', data=df)\n",
    "fitted_model = model.fit()\n",
    "fitted_model.summary()"
   ]
  },
  {
   "cell_type": "code",
   "execution_count": null,
   "metadata": {},
   "outputs": [],
   "source": []
  }
 ],
 "metadata": {
  "kernelspec": {
   "display_name": "Python 3",
   "language": "python",
   "name": "python3"
  },
  "language_info": {
   "codemirror_mode": {
    "name": "ipython",
    "version": 3
   },
   "file_extension": ".py",
   "mimetype": "text/x-python",
   "name": "python",
   "nbconvert_exporter": "python",
   "pygments_lexer": "ipython3",
   "version": "3.7.1"
  }
 },
 "nbformat": 4,
 "nbformat_minor": 4
}
