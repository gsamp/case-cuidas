{
 "cells": [
  {
   "cell_type": "markdown",
   "metadata": {},
   "source": [
    "# Import Modules"
   ]
  },
  {
   "cell_type": "code",
   "execution_count": 2,
   "metadata": {},
   "outputs": [],
   "source": [
    "# data and visualization\n",
    "import pandas as pd\n",
    "import numpy as np\n",
    "import matplotlib.pyplot as plt\n",
    "import datetime as dt"
   ]
  },
  {
   "cell_type": "markdown",
   "metadata": {},
   "source": [
    "# Prep Data"
   ]
  },
  {
   "cell_type": "code",
   "execution_count": 3,
   "metadata": {},
   "outputs": [
    {
     "data": {
      "text/html": [
       "<div>\n",
       "<style scoped>\n",
       "    .dataframe tbody tr th:only-of-type {\n",
       "        vertical-align: middle;\n",
       "    }\n",
       "\n",
       "    .dataframe tbody tr th {\n",
       "        vertical-align: top;\n",
       "    }\n",
       "\n",
       "    .dataframe thead th {\n",
       "        text-align: right;\n",
       "    }\n",
       "</style>\n",
       "<table border=\"1\" class=\"dataframe\">\n",
       "  <thead>\n",
       "    <tr style=\"text-align: right;\">\n",
       "      <th></th>\n",
       "      <th>user_id</th>\n",
       "      <th>gender</th>\n",
       "      <th>birth_date</th>\n",
       "      <th>start_date</th>\n",
       "      <th>end_date</th>\n",
       "      <th>city_code</th>\n",
       "    </tr>\n",
       "  </thead>\n",
       "  <tbody>\n",
       "    <tr>\n",
       "      <th>0</th>\n",
       "      <td>1</td>\n",
       "      <td>female</td>\n",
       "      <td>1981-07-07</td>\n",
       "      <td>2010-06-29</td>\n",
       "      <td>2010-11-02</td>\n",
       "      <td>3</td>\n",
       "    </tr>\n",
       "    <tr>\n",
       "      <th>1</th>\n",
       "      <td>2</td>\n",
       "      <td>male</td>\n",
       "      <td>1996-10-08</td>\n",
       "      <td>2011-01-18</td>\n",
       "      <td>2012-02-18</td>\n",
       "      <td>1</td>\n",
       "    </tr>\n",
       "    <tr>\n",
       "      <th>2</th>\n",
       "      <td>3</td>\n",
       "      <td>female</td>\n",
       "      <td>1986-06-03</td>\n",
       "      <td>2010-01-13</td>\n",
       "      <td>2010-09-12</td>\n",
       "      <td>3</td>\n",
       "    </tr>\n",
       "    <tr>\n",
       "      <th>3</th>\n",
       "      <td>4</td>\n",
       "      <td>male</td>\n",
       "      <td>1992-07-28</td>\n",
       "      <td>2010-11-19</td>\n",
       "      <td>2012-08-01</td>\n",
       "      <td>3</td>\n",
       "    </tr>\n",
       "    <tr>\n",
       "      <th>4</th>\n",
       "      <td>5</td>\n",
       "      <td>male</td>\n",
       "      <td>1981-04-21</td>\n",
       "      <td>2011-08-27</td>\n",
       "      <td>2011-12-11</td>\n",
       "      <td>2</td>\n",
       "    </tr>\n",
       "  </tbody>\n",
       "</table>\n",
       "</div>"
      ],
      "text/plain": [
       "   user_id  gender birth_date start_date   end_date  city_code\n",
       "0        1  female 1981-07-07 2010-06-29 2010-11-02          3\n",
       "1        2    male 1996-10-08 2011-01-18 2012-02-18          1\n",
       "2        3  female 1986-06-03 2010-01-13 2010-09-12          3\n",
       "3        4    male 1992-07-28 2010-11-19 2012-08-01          3\n",
       "4        5    male 1981-04-21 2011-08-27 2011-12-11          2"
      ]
     },
     "execution_count": 3,
     "metadata": {},
     "output_type": "execute_result"
    }
   ],
   "source": [
    "# import dataframes\n",
    "filepath = '../data/data-case.xlsx'\n",
    "df_users = pd.read_excel(filepath, sheet_name='users')\n",
    "df_nps = pd.read_excel(filepath, sheet_name='nps')\n",
    "df_appts = pd.read_excel(filepath, sheet_name='appointments')\n",
    "\n",
    "# visualize datafram3es\n",
    "df_users.head()\n",
    "# df_nps.head()\n",
    "# df_appts.head()"
   ]
  },
  {
   "cell_type": "code",
   "execution_count": 23,
   "metadata": {},
   "outputs": [
    {
     "data": {
      "text/html": [
       "<div>\n",
       "<style scoped>\n",
       "    .dataframe tbody tr th:only-of-type {\n",
       "        vertical-align: middle;\n",
       "    }\n",
       "\n",
       "    .dataframe tbody tr th {\n",
       "        vertical-align: top;\n",
       "    }\n",
       "\n",
       "    .dataframe thead th {\n",
       "        text-align: right;\n",
       "    }\n",
       "</style>\n",
       "<table border=\"1\" class=\"dataframe\">\n",
       "  <thead>\n",
       "    <tr style=\"text-align: right;\">\n",
       "      <th></th>\n",
       "      <th>user_id</th>\n",
       "      <th>gender</th>\n",
       "      <th>birth_date</th>\n",
       "      <th>start_date</th>\n",
       "      <th>end_date</th>\n",
       "      <th>city_code</th>\n",
       "      <th>num_days</th>\n",
       "    </tr>\n",
       "  </thead>\n",
       "  <tbody>\n",
       "    <tr>\n",
       "      <th>458</th>\n",
       "      <td>459</td>\n",
       "      <td>male</td>\n",
       "      <td>1994-09-26</td>\n",
       "      <td>2010-09-08</td>\n",
       "      <td>2011-08-28</td>\n",
       "      <td>3</td>\n",
       "      <td>354</td>\n",
       "    </tr>\n",
       "    <tr>\n",
       "      <th>459</th>\n",
       "      <td>460</td>\n",
       "      <td>male</td>\n",
       "      <td>1986-05-04</td>\n",
       "      <td>2011-08-17</td>\n",
       "      <td>2013-05-08</td>\n",
       "      <td>4</td>\n",
       "      <td>630</td>\n",
       "    </tr>\n",
       "    <tr>\n",
       "      <th>460</th>\n",
       "      <td>461</td>\n",
       "      <td>male</td>\n",
       "      <td>1996-01-29</td>\n",
       "      <td>2011-06-18</td>\n",
       "      <td>2012-01-29</td>\n",
       "      <td>3</td>\n",
       "      <td>225</td>\n",
       "    </tr>\n",
       "    <tr>\n",
       "      <th>461</th>\n",
       "      <td>462</td>\n",
       "      <td>male</td>\n",
       "      <td>1984-03-27</td>\n",
       "      <td>2011-01-14</td>\n",
       "      <td>2013-06-29</td>\n",
       "      <td>3</td>\n",
       "      <td>897</td>\n",
       "    </tr>\n",
       "    <tr>\n",
       "      <th>462</th>\n",
       "      <td>463</td>\n",
       "      <td>female</td>\n",
       "      <td>1995-12-31</td>\n",
       "      <td>2010-09-05</td>\n",
       "      <td>2011-03-26</td>\n",
       "      <td>3</td>\n",
       "      <td>202</td>\n",
       "    </tr>\n",
       "  </tbody>\n",
       "</table>\n",
       "</div>"
      ],
      "text/plain": [
       "     user_id  gender birth_date start_date   end_date  city_code  num_days\n",
       "458      459    male 1994-09-26 2010-09-08 2011-08-28          3       354\n",
       "459      460    male 1986-05-04 2011-08-17 2013-05-08          4       630\n",
       "460      461    male 1996-01-29 2011-06-18 2012-01-29          3       225\n",
       "461      462    male 1984-03-27 2011-01-14 2013-06-29          3       897\n",
       "462      463  female 1995-12-31 2010-09-05 2011-03-26          3       202"
      ]
     },
     "execution_count": 23,
     "metadata": {},
     "output_type": "execute_result"
    }
   ],
   "source": [
    "# compute number of days as a client, end date inclusive\n",
    "df_users['num_days'] = df_users['end_date'] - df_users['start_date']\n",
    "df_users['num_days'] = df_users['num_days'].dt.days\n",
    "df_users.tail()"
   ]
  },
  {
   "cell_type": "code",
   "execution_count": 5,
   "metadata": {},
   "outputs": [
    {
     "data": {
      "image/png": "[encoded data removed]",
      "text/plain": [
       "<Figure size 432x288 with 1 Axes>"
      ]
     },
     "metadata": {
      "needs_background": "light"
     },
     "output_type": "display_data"
    }
   ],
   "source": [
    "# Visualize distribution of days spent in the platform\n",
    "plt.figure();\n",
    "ax = df_users['num_days'].plot.hist()"
   ]
  },
  {
   "cell_type": "code",
   "execution_count": null,
   "metadata": {},
   "outputs": [],
   "source": []
  }
 ],
 "metadata": {
  "kernelspec": {
   "display_name": "Python 3",
   "language": "python",
   "name": "python3"
  },
  "language_info": {
   "codemirror_mode": {
    "name": "ipython",
    "version": 3
   },
   "file_extension": ".py",
   "mimetype": "text/x-python",
   "name": "python",
   "nbconvert_exporter": "python",
   "pygments_lexer": "ipython3",
   "version": "3.7.1"
  }
 },
 "nbformat": 4,
 "nbformat_minor": 4
}
